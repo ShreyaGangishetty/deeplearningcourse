{
 "cells": [
  {
   "cell_type": "markdown",
   "metadata": {},
   "source": [
    "Adapted from: https://keon.io/deep-q-learning/"
   ]
  },
  {
   "cell_type": "code",
   "execution_count": 1,
   "metadata": {},
   "outputs": [
    {
     "name": "stderr",
     "output_type": "stream",
     "text": [
      "Using TensorFlow backend.\n"
     ]
    }
   ],
   "source": [
    "import random\n",
    "import gym\n",
    "import numpy as np\n",
    "from collections import deque\n",
    "from keras.models import Sequential\n",
    "from keras.layers import Dense\n",
    "from keras.optimizers import Adam"
   ]
  },
  {
   "cell_type": "code",
   "execution_count": null,
   "metadata": {},
   "outputs": [],
   "source": []
  },
  {
   "cell_type": "code",
   "execution_count": 2,
   "metadata": {},
   "outputs": [],
   "source": [
    "# Deep Q-learning Agent\n",
    "class DQNAgent:\n",
    "    def __init__(self, state_size, action_size):\n",
    "        self.state_size = state_size\n",
    "        self.action_size = action_size\n",
    "        self.memory = deque(maxlen=2000)\n",
    "        self.gamma = 0.95    # discount rate\n",
    "        self.epsilon = 1.0  # exploration rate\n",
    "        self.epsilon_min = 0.01\n",
    "        self.epsilon_decay = 0.995\n",
    "        self.learning_rate = 0.001\n",
    "        self.model = self._build_model()\n",
    "        \n",
    "    def _build_model(self):\n",
    "        # Neural Net for Deep-Q learning Model\n",
    "        model = Sequential()\n",
    "        model.add(Dense(24, input_dim=self.state_size, activation='relu'))\n",
    "        model.add(Dense(24, activation='relu'))\n",
    "        model.add(Dense(self.action_size, activation='linear'))\n",
    "        model.compile(loss='mse',\n",
    "                      optimizer=Adam(lr=self.learning_rate))\n",
    "        return model\n",
    "    def remember(self, state, action, reward, next_state, done):\n",
    "        self.memory.append((state, action, reward, next_state, done))\n",
    "    def act(self, state):\n",
    "        if np.random.rand() <= self.epsilon:\n",
    "            return random.randrange(self.action_size)\n",
    "        act_values = self.model.predict(state)\n",
    "        return np.argmax(act_values[0])  # returns action\n",
    "    def replay(self, batch_size):\n",
    "        minibatch = random.sample(self.memory, batch_size)\n",
    "        for state, action, reward, next_state, done in minibatch:\n",
    "            target = reward\n",
    "            if not done:\n",
    "              target = reward + self.gamma * \\\n",
    "                       np.amax(self.model.predict(next_state)[0]) # discounted\n",
    "            target_f = self.model.predict(state)\n",
    "            target_f[0][action] = target\n",
    "            self.model.fit(state, target_f, epochs=1, verbose=0)\n",
    "        if self.epsilon > self.epsilon_min:\n",
    "            self.epsilon *= self.epsilon_decay\n"
   ]
  },
  {
   "cell_type": "code",
   "execution_count": 7,
   "metadata": {},
   "outputs": [
    {
     "name": "stderr",
     "output_type": "stream",
     "text": [
      "[2018-05-09 10:17:20,066] Making new env: CartPole-v0\n",
      "[2018-05-09 10:17:20,083] Clearing 2175 monitor files from previous run (because force=True was provided)\n"
     ]
    }
   ],
   "source": [
    "env = gym.make('CartPole-v0')\n",
    "env._max_episodes=5000\n",
    "EPISODES = 1000\n",
    "env = gym.wrappers.Monitor(env, directory='/tmp', video_callable=lambda episode_id: True, force=True)\n"
   ]
  },
  {
   "cell_type": "code",
   "execution_count": 8,
   "metadata": {},
   "outputs": [],
   "source": [
    "state_size = env.observation_space.shape[0]\n",
    "action_size = env.action_space.n\n",
    "agent = DQNAgent(state_size, action_size)\n"
   ]
  },
  {
   "cell_type": "code",
   "execution_count": 9,
   "metadata": {
    "collapsed": true
   },
   "outputs": [],
   "source": [
    "done = False\n",
    "batch_size = 32\n"
   ]
  },
  {
   "cell_type": "code",
   "execution_count": null,
   "metadata": {},
   "outputs": [
    {
     "name": "stderr",
     "output_type": "stream",
     "text": [
      "[2018-05-09 10:17:22,480] Starting new video recorder writing to /tmp/openaigym.video.0.27601.video000000.mp4\n",
      "[2018-05-09 10:17:23,767] Starting new video recorder writing to /tmp/openaigym.video.0.27601.video000001.mp4\n"
     ]
    },
    {
     "name": "stdout",
     "output_type": "stream",
     "text": [
      "episode: 0/1000, score: 11, e: 1.0\n"
     ]
    },
    {
     "name": "stderr",
     "output_type": "stream",
     "text": [
      "[2018-05-09 10:17:24,056] Starting new video recorder writing to /tmp/openaigym.video.0.27601.video000002.mp4\n"
     ]
    },
    {
     "name": "stdout",
     "output_type": "stream",
     "text": [
      "episode: 1/1000, score: 13, e: 1.0\n",
      "episode: 2/1000, score: 14, e: 1.0\n"
     ]
    },
    {
     "name": "stderr",
     "output_type": "stream",
     "text": [
      "[2018-05-09 10:17:25,162] Starting new video recorder writing to /tmp/openaigym.video.0.27601.video000003.mp4\n",
      "[2018-05-09 10:17:25,538] Starting new video recorder writing to /tmp/openaigym.video.0.27601.video000004.mp4\n"
     ]
    },
    {
     "name": "stdout",
     "output_type": "stream",
     "text": [
      "episode: 3/1000, score: 13, e: 0.99\n"
     ]
    },
    {
     "name": "stderr",
     "output_type": "stream",
     "text": [
      "[2018-05-09 10:17:26,341] Starting new video recorder writing to /tmp/openaigym.video.0.27601.video000005.mp4\n"
     ]
    },
    {
     "name": "stdout",
     "output_type": "stream",
     "text": [
      "episode: 4/1000, score: 38, e: 0.99\n"
     ]
    },
    {
     "name": "stderr",
     "output_type": "stream",
     "text": [
      "[2018-05-09 10:17:26,711] Starting new video recorder writing to /tmp/openaigym.video.0.27601.video000006.mp4\n"
     ]
    },
    {
     "name": "stdout",
     "output_type": "stream",
     "text": [
      "episode: 5/1000, score: 12, e: 0.99\n"
     ]
    },
    {
     "name": "stderr",
     "output_type": "stream",
     "text": [
      "[2018-05-09 10:17:27,562] Starting new video recorder writing to /tmp/openaigym.video.0.27601.video000007.mp4\n"
     ]
    },
    {
     "name": "stdout",
     "output_type": "stream",
     "text": [
      "episode: 6/1000, score: 36, e: 0.98\n"
     ]
    },
    {
     "name": "stderr",
     "output_type": "stream",
     "text": [
      "[2018-05-09 10:17:27,889] Starting new video recorder writing to /tmp/openaigym.video.0.27601.video000008.mp4\n"
     ]
    },
    {
     "name": "stdout",
     "output_type": "stream",
     "text": [
      "episode: 7/1000, score: 9, e: 0.98\n"
     ]
    },
    {
     "name": "stderr",
     "output_type": "stream",
     "text": [
      "[2018-05-09 10:17:28,210] Starting new video recorder writing to /tmp/openaigym.video.0.27601.video000009.mp4\n"
     ]
    },
    {
     "name": "stdout",
     "output_type": "stream",
     "text": [
      "episode: 8/1000, score: 9, e: 0.97\n"
     ]
    },
    {
     "name": "stderr",
     "output_type": "stream",
     "text": [
      "[2018-05-09 10:17:28,841] Starting new video recorder writing to /tmp/openaigym.video.0.27601.video000010.mp4\n"
     ]
    },
    {
     "name": "stdout",
     "output_type": "stream",
     "text": [
      "episode: 9/1000, score: 27, e: 0.97\n"
     ]
    },
    {
     "name": "stderr",
     "output_type": "stream",
     "text": [
      "[2018-05-09 10:17:29,264] Starting new video recorder writing to /tmp/openaigym.video.0.27601.video000011.mp4\n"
     ]
    },
    {
     "name": "stdout",
     "output_type": "stream",
     "text": [
      "episode: 10/1000, score: 17, e: 0.96\n"
     ]
    },
    {
     "name": "stderr",
     "output_type": "stream",
     "text": [
      "[2018-05-09 10:17:29,607] Starting new video recorder writing to /tmp/openaigym.video.0.27601.video000012.mp4\n"
     ]
    },
    {
     "name": "stdout",
     "output_type": "stream",
     "text": [
      "episode: 11/1000, score: 13, e: 0.96\n"
     ]
    },
    {
     "name": "stderr",
     "output_type": "stream",
     "text": [
      "[2018-05-09 10:17:30,150] Starting new video recorder writing to /tmp/openaigym.video.0.27601.video000013.mp4\n"
     ]
    },
    {
     "name": "stdout",
     "output_type": "stream",
     "text": [
      "episode: 12/1000, score: 23, e: 0.95\n"
     ]
    },
    {
     "name": "stderr",
     "output_type": "stream",
     "text": [
      "[2018-05-09 10:17:31,336] Starting new video recorder writing to /tmp/openaigym.video.0.27601.video000014.mp4\n"
     ]
    },
    {
     "name": "stdout",
     "output_type": "stream",
     "text": [
      "episode: 13/1000, score: 62, e: 0.95\n"
     ]
    },
    {
     "name": "stderr",
     "output_type": "stream",
     "text": [
      "[2018-05-09 10:17:31,996] Starting new video recorder writing to /tmp/openaigym.video.0.27601.video000015.mp4\n"
     ]
    },
    {
     "name": "stdout",
     "output_type": "stream",
     "text": [
      "episode: 14/1000, score: 30, e: 0.94\n"
     ]
    },
    {
     "name": "stderr",
     "output_type": "stream",
     "text": [
      "[2018-05-09 10:17:32,356] Starting new video recorder writing to /tmp/openaigym.video.0.27601.video000016.mp4\n"
     ]
    },
    {
     "name": "stdout",
     "output_type": "stream",
     "text": [
      "episode: 15/1000, score: 13, e: 0.94\n"
     ]
    },
    {
     "name": "stderr",
     "output_type": "stream",
     "text": [
      "[2018-05-09 10:17:32,908] Starting new video recorder writing to /tmp/openaigym.video.0.27601.video000017.mp4\n"
     ]
    },
    {
     "name": "stdout",
     "output_type": "stream",
     "text": [
      "episode: 16/1000, score: 23, e: 0.93\n"
     ]
    },
    {
     "name": "stderr",
     "output_type": "stream",
     "text": [
      "[2018-05-09 10:17:33,362] Starting new video recorder writing to /tmp/openaigym.video.0.27601.video000018.mp4\n"
     ]
    },
    {
     "name": "stdout",
     "output_type": "stream",
     "text": [
      "episode: 17/1000, score: 18, e: 0.93\n"
     ]
    },
    {
     "name": "stderr",
     "output_type": "stream",
     "text": [
      "[2018-05-09 10:17:34,385] Starting new video recorder writing to /tmp/openaigym.video.0.27601.video000019.mp4\n"
     ]
    },
    {
     "name": "stdout",
     "output_type": "stream",
     "text": [
      "episode: 18/1000, score: 52, e: 0.92\n"
     ]
    },
    {
     "name": "stderr",
     "output_type": "stream",
     "text": [
      "[2018-05-09 10:17:34,744] Starting new video recorder writing to /tmp/openaigym.video.0.27601.video000020.mp4\n"
     ]
    },
    {
     "name": "stdout",
     "output_type": "stream",
     "text": [
      "episode: 19/1000, score: 13, e: 0.92\n"
     ]
    },
    {
     "name": "stderr",
     "output_type": "stream",
     "text": [
      "[2018-05-09 10:17:35,072] Starting new video recorder writing to /tmp/openaigym.video.0.27601.video000021.mp4\n"
     ]
    },
    {
     "name": "stdout",
     "output_type": "stream",
     "text": [
      "episode: 20/1000, score: 11, e: 0.91\n"
     ]
    },
    {
     "name": "stderr",
     "output_type": "stream",
     "text": [
      "[2018-05-09 10:17:35,437] Starting new video recorder writing to /tmp/openaigym.video.0.27601.video000022.mp4\n"
     ]
    },
    {
     "name": "stdout",
     "output_type": "stream",
     "text": [
      "episode: 21/1000, score: 13, e: 0.91\n"
     ]
    },
    {
     "name": "stderr",
     "output_type": "stream",
     "text": [
      "[2018-05-09 10:17:35,988] Starting new video recorder writing to /tmp/openaigym.video.0.27601.video000023.mp4\n"
     ]
    },
    {
     "name": "stdout",
     "output_type": "stream",
     "text": [
      "episode: 22/1000, score: 24, e: 0.9\n"
     ]
    },
    {
     "name": "stderr",
     "output_type": "stream",
     "text": [
      "[2018-05-09 10:17:36,400] Starting new video recorder writing to /tmp/openaigym.video.0.27601.video000024.mp4\n"
     ]
    },
    {
     "name": "stdout",
     "output_type": "stream",
     "text": [
      "episode: 23/1000, score: 15, e: 0.9\n"
     ]
    },
    {
     "name": "stderr",
     "output_type": "stream",
     "text": [
      "[2018-05-09 10:17:36,867] Starting new video recorder writing to /tmp/openaigym.video.0.27601.video000025.mp4\n"
     ]
    },
    {
     "name": "stdout",
     "output_type": "stream",
     "text": [
      "episode: 24/1000, score: 18, e: 0.9\n"
     ]
    },
    {
     "name": "stderr",
     "output_type": "stream",
     "text": [
      "[2018-05-09 10:17:37,399] Starting new video recorder writing to /tmp/openaigym.video.0.27601.video000026.mp4\n"
     ]
    },
    {
     "name": "stdout",
     "output_type": "stream",
     "text": [
      "episode: 25/1000, score: 23, e: 0.89\n"
     ]
    },
    {
     "name": "stderr",
     "output_type": "stream",
     "text": [
      "[2018-05-09 10:17:38,116] Starting new video recorder writing to /tmp/openaigym.video.0.27601.video000027.mp4\n"
     ]
    },
    {
     "name": "stdout",
     "output_type": "stream",
     "text": [
      "episode: 26/1000, score: 33, e: 0.89\n"
     ]
    },
    {
     "name": "stderr",
     "output_type": "stream",
     "text": [
      "[2018-05-09 10:17:38,598] Starting new video recorder writing to /tmp/openaigym.video.0.27601.video000028.mp4\n"
     ]
    },
    {
     "name": "stdout",
     "output_type": "stream",
     "text": [
      "episode: 27/1000, score: 19, e: 0.88\n"
     ]
    },
    {
     "name": "stderr",
     "output_type": "stream",
     "text": [
      "[2018-05-09 10:17:38,933] Starting new video recorder writing to /tmp/openaigym.video.0.27601.video000029.mp4\n"
     ]
    },
    {
     "name": "stdout",
     "output_type": "stream",
     "text": [
      "episode: 28/1000, score: 10, e: 0.88\n"
     ]
    },
    {
     "name": "stderr",
     "output_type": "stream",
     "text": [
      "[2018-05-09 10:17:39,438] Starting new video recorder writing to /tmp/openaigym.video.0.27601.video000030.mp4\n"
     ]
    },
    {
     "name": "stdout",
     "output_type": "stream",
     "text": [
      "episode: 29/1000, score: 21, e: 0.87\n"
     ]
    },
    {
     "name": "stderr",
     "output_type": "stream",
     "text": [
      "[2018-05-09 10:17:39,898] Starting new video recorder writing to /tmp/openaigym.video.0.27601.video000031.mp4\n"
     ]
    },
    {
     "name": "stdout",
     "output_type": "stream",
     "text": [
      "episode: 30/1000, score: 17, e: 0.87\n"
     ]
    },
    {
     "name": "stderr",
     "output_type": "stream",
     "text": [
      "[2018-05-09 10:17:40,359] Starting new video recorder writing to /tmp/openaigym.video.0.27601.video000032.mp4\n"
     ]
    },
    {
     "name": "stdout",
     "output_type": "stream",
     "text": [
      "episode: 31/1000, score: 18, e: 0.86\n"
     ]
    },
    {
     "name": "stderr",
     "output_type": "stream",
     "text": [
      "[2018-05-09 10:17:40,772] Starting new video recorder writing to /tmp/openaigym.video.0.27601.video000033.mp4\n"
     ]
    },
    {
     "name": "stdout",
     "output_type": "stream",
     "text": [
      "episode: 32/1000, score: 15, e: 0.86\n"
     ]
    },
    {
     "name": "stderr",
     "output_type": "stream",
     "text": [
      "[2018-05-09 10:17:41,724] Starting new video recorder writing to /tmp/openaigym.video.0.27601.video000034.mp4\n"
     ]
    },
    {
     "name": "stdout",
     "output_type": "stream",
     "text": [
      "episode: 33/1000, score: 47, e: 0.86\n"
     ]
    },
    {
     "name": "stderr",
     "output_type": "stream",
     "text": [
      "[2018-05-09 10:17:42,008] Starting new video recorder writing to /tmp/openaigym.video.0.27601.video000035.mp4\n"
     ]
    },
    {
     "name": "stdout",
     "output_type": "stream",
     "text": [
      "episode: 34/1000, score: 8, e: 0.85\n"
     ]
    },
    {
     "name": "stderr",
     "output_type": "stream",
     "text": [
      "[2018-05-09 10:17:42,311] Starting new video recorder writing to /tmp/openaigym.video.0.27601.video000036.mp4\n"
     ]
    },
    {
     "name": "stdout",
     "output_type": "stream",
     "text": [
      "episode: 35/1000, score: 10, e: 0.85\n"
     ]
    },
    {
     "name": "stderr",
     "output_type": "stream",
     "text": [
      "[2018-05-09 10:17:42,964] Starting new video recorder writing to /tmp/openaigym.video.0.27601.video000037.mp4\n"
     ]
    },
    {
     "name": "stdout",
     "output_type": "stream",
     "text": [
      "episode: 36/1000, score: 29, e: 0.84\n"
     ]
    },
    {
     "name": "stderr",
     "output_type": "stream",
     "text": [
      "[2018-05-09 10:17:43,522] Starting new video recorder writing to /tmp/openaigym.video.0.27601.video000038.mp4\n"
     ]
    },
    {
     "name": "stdout",
     "output_type": "stream",
     "text": [
      "episode: 37/1000, score: 24, e: 0.84\n"
     ]
    },
    {
     "name": "stderr",
     "output_type": "stream",
     "text": [
      "[2018-05-09 10:17:44,000] Starting new video recorder writing to /tmp/openaigym.video.0.27601.video000039.mp4\n"
     ]
    },
    {
     "name": "stdout",
     "output_type": "stream",
     "text": [
      "episode: 38/1000, score: 19, e: 0.83\n"
     ]
    },
    {
     "name": "stderr",
     "output_type": "stream",
     "text": [
      "[2018-05-09 10:17:44,396] Starting new video recorder writing to /tmp/openaigym.video.0.27601.video000040.mp4\n"
     ]
    },
    {
     "name": "stdout",
     "output_type": "stream",
     "text": [
      "episode: 39/1000, score: 15, e: 0.83\n"
     ]
    },
    {
     "name": "stderr",
     "output_type": "stream",
     "text": [
      "[2018-05-09 10:17:44,719] Starting new video recorder writing to /tmp/openaigym.video.0.27601.video000041.mp4\n"
     ]
    },
    {
     "name": "stdout",
     "output_type": "stream",
     "text": [
      "episode: 40/1000, score: 11, e: 0.83\n"
     ]
    },
    {
     "name": "stderr",
     "output_type": "stream",
     "text": [
      "[2018-05-09 10:17:45,037] Starting new video recorder writing to /tmp/openaigym.video.0.27601.video000042.mp4\n"
     ]
    },
    {
     "name": "stdout",
     "output_type": "stream",
     "text": [
      "episode: 41/1000, score: 11, e: 0.82\n"
     ]
    },
    {
     "name": "stderr",
     "output_type": "stream",
     "text": [
      "[2018-05-09 10:17:45,484] Starting new video recorder writing to /tmp/openaigym.video.0.27601.video000043.mp4\n"
     ]
    },
    {
     "name": "stdout",
     "output_type": "stream",
     "text": [
      "episode: 42/1000, score: 18, e: 0.82\n"
     ]
    },
    {
     "name": "stderr",
     "output_type": "stream",
     "text": [
      "[2018-05-09 10:17:45,951] Starting new video recorder writing to /tmp/openaigym.video.0.27601.video000044.mp4\n"
     ]
    },
    {
     "name": "stdout",
     "output_type": "stream",
     "text": [
      "episode: 43/1000, score: 19, e: 0.81\n"
     ]
    },
    {
     "name": "stderr",
     "output_type": "stream",
     "text": [
      "[2018-05-09 10:17:46,255] Starting new video recorder writing to /tmp/openaigym.video.0.27601.video000045.mp4\n"
     ]
    },
    {
     "name": "stdout",
     "output_type": "stream",
     "text": [
      "episode: 44/1000, score: 10, e: 0.81\n"
     ]
    },
    {
     "name": "stderr",
     "output_type": "stream",
     "text": [
      "[2018-05-09 10:17:46,661] Starting new video recorder writing to /tmp/openaigym.video.0.27601.video000046.mp4\n"
     ]
    },
    {
     "name": "stdout",
     "output_type": "stream",
     "text": [
      "episode: 45/1000, score: 16, e: 0.81\n"
     ]
    },
    {
     "name": "stderr",
     "output_type": "stream",
     "text": [
      "[2018-05-09 10:17:47,096] Starting new video recorder writing to /tmp/openaigym.video.0.27601.video000047.mp4\n"
     ]
    },
    {
     "name": "stdout",
     "output_type": "stream",
     "text": [
      "episode: 46/1000, score: 17, e: 0.8\n"
     ]
    },
    {
     "name": "stderr",
     "output_type": "stream",
     "text": [
      "[2018-05-09 10:17:47,516] Starting new video recorder writing to /tmp/openaigym.video.0.27601.video000048.mp4\n"
     ]
    },
    {
     "name": "stdout",
     "output_type": "stream",
     "text": [
      "episode: 47/1000, score: 16, e: 0.8\n"
     ]
    },
    {
     "name": "stderr",
     "output_type": "stream",
     "text": [
      "[2018-05-09 10:17:48,313] Starting new video recorder writing to /tmp/openaigym.video.0.27601.video000049.mp4\n"
     ]
    },
    {
     "name": "stdout",
     "output_type": "stream",
     "text": [
      "episode: 48/1000, score: 37, e: 0.79\n"
     ]
    },
    {
     "name": "stderr",
     "output_type": "stream",
     "text": [
      "[2018-05-09 10:17:48,617] Starting new video recorder writing to /tmp/openaigym.video.0.27601.video000050.mp4\n"
     ]
    },
    {
     "name": "stdout",
     "output_type": "stream",
     "text": [
      "episode: 49/1000, score: 10, e: 0.79\n"
     ]
    },
    {
     "name": "stderr",
     "output_type": "stream",
     "text": [
      "[2018-05-09 10:17:49,030] Starting new video recorder writing to /tmp/openaigym.video.0.27601.video000051.mp4\n"
     ]
    },
    {
     "name": "stdout",
     "output_type": "stream",
     "text": [
      "episode: 50/1000, score: 16, e: 0.79\n"
     ]
    },
    {
     "name": "stderr",
     "output_type": "stream",
     "text": [
      "[2018-05-09 10:17:49,358] Starting new video recorder writing to /tmp/openaigym.video.0.27601.video000052.mp4\n"
     ]
    },
    {
     "name": "stdout",
     "output_type": "stream",
     "text": [
      "episode: 51/1000, score: 12, e: 0.78\n"
     ]
    },
    {
     "name": "stderr",
     "output_type": "stream",
     "text": [
      "[2018-05-09 10:17:49,638] Starting new video recorder writing to /tmp/openaigym.video.0.27601.video000053.mp4\n"
     ]
    },
    {
     "name": "stdout",
     "output_type": "stream",
     "text": [
      "episode: 52/1000, score: 9, e: 0.78\n"
     ]
    },
    {
     "name": "stderr",
     "output_type": "stream",
     "text": [
      "[2018-05-09 10:17:50,105] Starting new video recorder writing to /tmp/openaigym.video.0.27601.video000054.mp4\n"
     ]
    },
    {
     "name": "stdout",
     "output_type": "stream",
     "text": [
      "episode: 53/1000, score: 19, e: 0.77\n"
     ]
    },
    {
     "name": "stderr",
     "output_type": "stream",
     "text": [
      "[2018-05-09 10:17:50,482] Starting new video recorder writing to /tmp/openaigym.video.0.27601.video000055.mp4\n"
     ]
    },
    {
     "name": "stdout",
     "output_type": "stream",
     "text": [
      "episode: 54/1000, score: 14, e: 0.77\n"
     ]
    },
    {
     "name": "stderr",
     "output_type": "stream",
     "text": [
      "[2018-05-09 10:17:51,131] Starting new video recorder writing to /tmp/openaigym.video.0.27601.video000056.mp4\n"
     ]
    },
    {
     "name": "stdout",
     "output_type": "stream",
     "text": [
      "episode: 55/1000, score: 29, e: 0.77\n"
     ]
    },
    {
     "name": "stderr",
     "output_type": "stream",
     "text": [
      "[2018-05-09 10:17:51,544] Starting new video recorder writing to /tmp/openaigym.video.0.27601.video000057.mp4\n"
     ]
    },
    {
     "name": "stdout",
     "output_type": "stream",
     "text": [
      "episode: 56/1000, score: 16, e: 0.76\n"
     ]
    },
    {
     "name": "stderr",
     "output_type": "stream",
     "text": [
      "[2018-05-09 10:17:52,070] Starting new video recorder writing to /tmp/openaigym.video.0.27601.video000058.mp4\n"
     ]
    },
    {
     "name": "stdout",
     "output_type": "stream",
     "text": [
      "episode: 57/1000, score: 23, e: 0.76\n"
     ]
    },
    {
     "name": "stderr",
     "output_type": "stream",
     "text": [
      "[2018-05-09 10:17:52,603] Starting new video recorder writing to /tmp/openaigym.video.0.27601.video000059.mp4\n"
     ]
    },
    {
     "name": "stdout",
     "output_type": "stream",
     "text": [
      "episode: 58/1000, score: 23, e: 0.76\n"
     ]
    },
    {
     "name": "stderr",
     "output_type": "stream",
     "text": [
      "[2018-05-09 10:17:53,280] Starting new video recorder writing to /tmp/openaigym.video.0.27601.video000060.mp4\n"
     ]
    },
    {
     "name": "stdout",
     "output_type": "stream",
     "text": [
      "episode: 59/1000, score: 31, e: 0.75\n"
     ]
    },
    {
     "name": "stderr",
     "output_type": "stream",
     "text": [
      "[2018-05-09 10:17:53,593] Starting new video recorder writing to /tmp/openaigym.video.0.27601.video000061.mp4\n"
     ]
    },
    {
     "name": "stdout",
     "output_type": "stream",
     "text": [
      "episode: 60/1000, score: 11, e: 0.75\n"
     ]
    },
    {
     "name": "stderr",
     "output_type": "stream",
     "text": [
      "[2018-05-09 10:17:54,120] Starting new video recorder writing to /tmp/openaigym.video.0.27601.video000062.mp4\n"
     ]
    },
    {
     "name": "stdout",
     "output_type": "stream",
     "text": [
      "episode: 61/1000, score: 23, e: 0.74\n"
     ]
    },
    {
     "name": "stderr",
     "output_type": "stream",
     "text": [
      "[2018-05-09 10:17:54,528] Starting new video recorder writing to /tmp/openaigym.video.0.27601.video000063.mp4\n"
     ]
    },
    {
     "name": "stdout",
     "output_type": "stream",
     "text": [
      "episode: 62/1000, score: 16, e: 0.74\n"
     ]
    },
    {
     "name": "stderr",
     "output_type": "stream",
     "text": [
      "[2018-05-09 10:17:54,908] Starting new video recorder writing to /tmp/openaigym.video.0.27601.video000064.mp4\n"
     ]
    },
    {
     "name": "stdout",
     "output_type": "stream",
     "text": [
      "episode: 63/1000, score: 13, e: 0.74\n"
     ]
    },
    {
     "name": "stderr",
     "output_type": "stream",
     "text": [
      "[2018-05-09 10:17:55,363] Starting new video recorder writing to /tmp/openaigym.video.0.27601.video000065.mp4\n"
     ]
    },
    {
     "name": "stdout",
     "output_type": "stream",
     "text": [
      "episode: 64/1000, score: 19, e: 0.73\n"
     ]
    },
    {
     "name": "stderr",
     "output_type": "stream",
     "text": [
      "[2018-05-09 10:17:55,854] Starting new video recorder writing to /tmp/openaigym.video.0.27601.video000066.mp4\n"
     ]
    },
    {
     "name": "stdout",
     "output_type": "stream",
     "text": [
      "episode: 65/1000, score: 19, e: 0.73\n"
     ]
    },
    {
     "name": "stderr",
     "output_type": "stream",
     "text": [
      "[2018-05-09 10:17:56,209] Starting new video recorder writing to /tmp/openaigym.video.0.27601.video000067.mp4\n"
     ]
    },
    {
     "name": "stdout",
     "output_type": "stream",
     "text": [
      "episode: 66/1000, score: 13, e: 0.73\n"
     ]
    },
    {
     "name": "stderr",
     "output_type": "stream",
     "text": [
      "[2018-05-09 10:17:56,614] Starting new video recorder writing to /tmp/openaigym.video.0.27601.video000068.mp4\n"
     ]
    },
    {
     "name": "stdout",
     "output_type": "stream",
     "text": [
      "episode: 67/1000, score: 16, e: 0.72\n"
     ]
    },
    {
     "name": "stderr",
     "output_type": "stream",
     "text": [
      "[2018-05-09 10:17:57,142] Starting new video recorder writing to /tmp/openaigym.video.0.27601.video000069.mp4\n"
     ]
    },
    {
     "name": "stdout",
     "output_type": "stream",
     "text": [
      "episode: 68/1000, score: 18, e: 0.72\n"
     ]
    },
    {
     "name": "stderr",
     "output_type": "stream",
     "text": [
      "[2018-05-09 10:17:57,478] Starting new video recorder writing to /tmp/openaigym.video.0.27601.video000070.mp4\n"
     ]
    },
    {
     "name": "stdout",
     "output_type": "stream",
     "text": [
      "episode: 69/1000, score: 14, e: 0.71\n"
     ]
    },
    {
     "name": "stderr",
     "output_type": "stream",
     "text": [
      "[2018-05-09 10:17:58,015] Starting new video recorder writing to /tmp/openaigym.video.0.27601.video000071.mp4\n"
     ]
    },
    {
     "name": "stdout",
     "output_type": "stream",
     "text": [
      "episode: 70/1000, score: 36, e: 0.71\n"
     ]
    },
    {
     "name": "stderr",
     "output_type": "stream",
     "text": [
      "[2018-05-09 10:17:58,434] Starting new video recorder writing to /tmp/openaigym.video.0.27601.video000072.mp4\n"
     ]
    },
    {
     "name": "stdout",
     "output_type": "stream",
     "text": [
      "episode: 71/1000, score: 20, e: 0.71\n"
     ]
    },
    {
     "name": "stderr",
     "output_type": "stream",
     "text": [
      "[2018-05-09 10:17:58,919] Starting new video recorder writing to /tmp/openaigym.video.0.27601.video000073.mp4\n"
     ]
    },
    {
     "name": "stdout",
     "output_type": "stream",
     "text": [
      "episode: 72/1000, score: 24, e: 0.7\n"
     ]
    },
    {
     "name": "stderr",
     "output_type": "stream",
     "text": [
      "[2018-05-09 10:17:59,247] Starting new video recorder writing to /tmp/openaigym.video.0.27601.video000074.mp4\n"
     ]
    },
    {
     "name": "stdout",
     "output_type": "stream",
     "text": [
      "episode: 73/1000, score: 17, e: 0.7\n"
     ]
    },
    {
     "name": "stderr",
     "output_type": "stream",
     "text": [
      "[2018-05-09 10:17:59,551] Starting new video recorder writing to /tmp/openaigym.video.0.27601.video000075.mp4\n"
     ]
    },
    {
     "name": "stdout",
     "output_type": "stream",
     "text": [
      "episode: 74/1000, score: 13, e: 0.7\n"
     ]
    },
    {
     "name": "stderr",
     "output_type": "stream",
     "text": [
      "[2018-05-09 10:17:59,820] Starting new video recorder writing to /tmp/openaigym.video.0.27601.video000076.mp4\n"
     ]
    },
    {
     "name": "stdout",
     "output_type": "stream",
     "text": [
      "episode: 75/1000, score: 9, e: 0.69\n"
     ]
    },
    {
     "name": "stderr",
     "output_type": "stream",
     "text": [
      "[2018-05-09 10:18:00,309] Starting new video recorder writing to /tmp/openaigym.video.0.27601.video000077.mp4\n"
     ]
    },
    {
     "name": "stdout",
     "output_type": "stream",
     "text": [
      "episode: 76/1000, score: 26, e: 0.69\n"
     ]
    },
    {
     "name": "stderr",
     "output_type": "stream",
     "text": [
      "[2018-05-09 10:18:00,725] Starting new video recorder writing to /tmp/openaigym.video.0.27601.video000078.mp4\n"
     ]
    },
    {
     "name": "stdout",
     "output_type": "stream",
     "text": [
      "episode: 77/1000, score: 20, e: 0.69\n"
     ]
    },
    {
     "name": "stderr",
     "output_type": "stream",
     "text": [
      "[2018-05-09 10:18:01,083] Starting new video recorder writing to /tmp/openaigym.video.0.27601.video000079.mp4\n"
     ]
    },
    {
     "name": "stdout",
     "output_type": "stream",
     "text": [
      "episode: 78/1000, score: 14, e: 0.68\n"
     ]
    },
    {
     "name": "stderr",
     "output_type": "stream",
     "text": [
      "[2018-05-09 10:18:01,480] Starting new video recorder writing to /tmp/openaigym.video.0.27601.video000080.mp4\n"
     ]
    },
    {
     "name": "stdout",
     "output_type": "stream",
     "text": [
      "episode: 79/1000, score: 21, e: 0.68\n"
     ]
    },
    {
     "name": "stderr",
     "output_type": "stream",
     "text": [
      "[2018-05-09 10:18:01,743] Starting new video recorder writing to /tmp/openaigym.video.0.27601.video000081.mp4\n"
     ]
    },
    {
     "name": "stdout",
     "output_type": "stream",
     "text": [
      "episode: 80/1000, score: 10, e: 0.68\n"
     ]
    },
    {
     "name": "stderr",
     "output_type": "stream",
     "text": [
      "[2018-05-09 10:18:02,036] Starting new video recorder writing to /tmp/openaigym.video.0.27601.video000082.mp4\n"
     ]
    },
    {
     "name": "stdout",
     "output_type": "stream",
     "text": [
      "episode: 81/1000, score: 13, e: 0.67\n"
     ]
    },
    {
     "name": "stderr",
     "output_type": "stream",
     "text": [
      "[2018-05-09 10:18:02,520] Starting new video recorder writing to /tmp/openaigym.video.0.27601.video000083.mp4\n"
     ]
    },
    {
     "name": "stdout",
     "output_type": "stream",
     "text": [
      "episode: 82/1000, score: 23, e: 0.67\n"
     ]
    },
    {
     "name": "stderr",
     "output_type": "stream",
     "text": [
      "[2018-05-09 10:18:02,947] Starting new video recorder writing to /tmp/openaigym.video.0.27601.video000084.mp4\n"
     ]
    },
    {
     "name": "stdout",
     "output_type": "stream",
     "text": [
      "episode: 83/1000, score: 16, e: 0.67\n"
     ]
    },
    {
     "name": "stderr",
     "output_type": "stream",
     "text": [
      "[2018-05-09 10:18:03,354] Starting new video recorder writing to /tmp/openaigym.video.0.27601.video000085.mp4\n"
     ]
    },
    {
     "name": "stdout",
     "output_type": "stream",
     "text": [
      "episode: 84/1000, score: 24, e: 0.66\n"
     ]
    },
    {
     "name": "stderr",
     "output_type": "stream",
     "text": [
      "[2018-05-09 10:18:03,882] Starting new video recorder writing to /tmp/openaigym.video.0.27601.video000086.mp4\n"
     ]
    },
    {
     "name": "stdout",
     "output_type": "stream",
     "text": [
      "episode: 85/1000, score: 21, e: 0.66\n"
     ]
    },
    {
     "name": "stderr",
     "output_type": "stream",
     "text": [
      "[2018-05-09 10:18:04,218] Starting new video recorder writing to /tmp/openaigym.video.0.27601.video000087.mp4\n"
     ]
    },
    {
     "name": "stdout",
     "output_type": "stream",
     "text": [
      "episode: 86/1000, score: 15, e: 0.66\n"
     ]
    },
    {
     "name": "stderr",
     "output_type": "stream",
     "text": [
      "[2018-05-09 10:18:04,691] Starting new video recorder writing to /tmp/openaigym.video.0.27601.video000088.mp4\n"
     ]
    },
    {
     "name": "stdout",
     "output_type": "stream",
     "text": [
      "episode: 87/1000, score: 24, e: 0.65\n"
     ]
    },
    {
     "name": "stderr",
     "output_type": "stream",
     "text": [
      "[2018-05-09 10:18:05,020] Starting new video recorder writing to /tmp/openaigym.video.0.27601.video000089.mp4\n"
     ]
    },
    {
     "name": "stdout",
     "output_type": "stream",
     "text": [
      "episode: 88/1000, score: 17, e: 0.65\n"
     ]
    },
    {
     "name": "stderr",
     "output_type": "stream",
     "text": [
      "[2018-05-09 10:18:05,465] Starting new video recorder writing to /tmp/openaigym.video.0.27601.video000090.mp4\n"
     ]
    },
    {
     "name": "stdout",
     "output_type": "stream",
     "text": [
      "episode: 89/1000, score: 22, e: 0.65\n"
     ]
    },
    {
     "name": "stderr",
     "output_type": "stream",
     "text": [
      "[2018-05-09 10:18:05,787] Starting new video recorder writing to /tmp/openaigym.video.0.27601.video000091.mp4\n"
     ]
    },
    {
     "name": "stdout",
     "output_type": "stream",
     "text": [
      "episode: 90/1000, score: 16, e: 0.64\n"
     ]
    },
    {
     "name": "stderr",
     "output_type": "stream",
     "text": [
      "[2018-05-09 10:18:06,126] Starting new video recorder writing to /tmp/openaigym.video.0.27601.video000092.mp4\n"
     ]
    },
    {
     "name": "stdout",
     "output_type": "stream",
     "text": [
      "episode: 91/1000, score: 13, e: 0.64\n"
     ]
    },
    {
     "name": "stderr",
     "output_type": "stream",
     "text": [
      "[2018-05-09 10:18:06,420] Starting new video recorder writing to /tmp/openaigym.video.0.27601.video000093.mp4\n"
     ]
    },
    {
     "name": "stdout",
     "output_type": "stream",
     "text": [
      "episode: 92/1000, score: 13, e: 0.64\n"
     ]
    },
    {
     "name": "stderr",
     "output_type": "stream",
     "text": [
      "[2018-05-09 10:18:06,748] Starting new video recorder writing to /tmp/openaigym.video.0.27601.video000094.mp4\n"
     ]
    },
    {
     "name": "stdout",
     "output_type": "stream",
     "text": [
      "episode: 93/1000, score: 12, e: 0.63\n"
     ]
    },
    {
     "name": "stderr",
     "output_type": "stream",
     "text": [
      "[2018-05-09 10:18:07,037] Starting new video recorder writing to /tmp/openaigym.video.0.27601.video000095.mp4\n"
     ]
    },
    {
     "name": "stdout",
     "output_type": "stream",
     "text": [
      "episode: 94/1000, score: 10, e: 0.63\n"
     ]
    },
    {
     "name": "stderr",
     "output_type": "stream",
     "text": [
      "[2018-05-09 10:18:07,412] Starting new video recorder writing to /tmp/openaigym.video.0.27601.video000096.mp4\n"
     ]
    },
    {
     "name": "stdout",
     "output_type": "stream",
     "text": [
      "episode: 95/1000, score: 17, e: 0.63\n"
     ]
    },
    {
     "name": "stderr",
     "output_type": "stream",
     "text": [
      "[2018-05-09 10:18:07,814] Starting new video recorder writing to /tmp/openaigym.video.0.27601.video000097.mp4\n"
     ]
    },
    {
     "name": "stdout",
     "output_type": "stream",
     "text": [
      "episode: 96/1000, score: 20, e: 0.62\n"
     ]
    },
    {
     "name": "stderr",
     "output_type": "stream",
     "text": [
      "[2018-05-09 10:18:08,254] Starting new video recorder writing to /tmp/openaigym.video.0.27601.video000098.mp4\n"
     ]
    },
    {
     "name": "stdout",
     "output_type": "stream",
     "text": [
      "episode: 97/1000, score: 21, e: 0.62\n"
     ]
    },
    {
     "name": "stderr",
     "output_type": "stream",
     "text": [
      "[2018-05-09 10:18:08,784] Starting new video recorder writing to /tmp/openaigym.video.0.27601.video000099.mp4\n"
     ]
    },
    {
     "name": "stdout",
     "output_type": "stream",
     "text": [
      "episode: 98/1000, score: 30, e: 0.62\n"
     ]
    },
    {
     "name": "stderr",
     "output_type": "stream",
     "text": [
      "[2018-05-09 10:18:09,397] Starting new video recorder writing to /tmp/openaigym.video.0.27601.video000100.mp4\n"
     ]
    },
    {
     "name": "stdout",
     "output_type": "stream",
     "text": [
      "episode: 99/1000, score: 43, e: 0.61\n"
     ]
    },
    {
     "name": "stderr",
     "output_type": "stream",
     "text": [
      "[2018-05-09 10:18:09,833] Starting new video recorder writing to /tmp/openaigym.video.0.27601.video000101.mp4\n"
     ]
    },
    {
     "name": "stdout",
     "output_type": "stream",
     "text": [
      "episode: 100/1000, score: 16, e: 0.61\n"
     ]
    },
    {
     "name": "stderr",
     "output_type": "stream",
     "text": [
      "[2018-05-09 10:18:10,232] Starting new video recorder writing to /tmp/openaigym.video.0.27601.video000102.mp4\n"
     ]
    },
    {
     "name": "stdout",
     "output_type": "stream",
     "text": [
      "episode: 101/1000, score: 20, e: 0.61\n"
     ]
    },
    {
     "name": "stderr",
     "output_type": "stream",
     "text": [
      "[2018-05-09 10:18:10,778] Starting new video recorder writing to /tmp/openaigym.video.0.27601.video000103.mp4\n"
     ]
    },
    {
     "name": "stdout",
     "output_type": "stream",
     "text": [
      "episode: 102/1000, score: 33, e: 0.61\n"
     ]
    },
    {
     "name": "stderr",
     "output_type": "stream",
     "text": [
      "[2018-05-09 10:18:11,300] Starting new video recorder writing to /tmp/openaigym.video.0.27601.video000104.mp4\n"
     ]
    },
    {
     "name": "stdout",
     "output_type": "stream",
     "text": [
      "episode: 103/1000, score: 30, e: 0.6\n"
     ]
    },
    {
     "name": "stderr",
     "output_type": "stream",
     "text": [
      "[2018-05-09 10:18:12,067] Starting new video recorder writing to /tmp/openaigym.video.0.27601.video000105.mp4\n"
     ]
    },
    {
     "name": "stdout",
     "output_type": "stream",
     "text": [
      "episode: 104/1000, score: 17, e: 0.6\n"
     ]
    },
    {
     "name": "stderr",
     "output_type": "stream",
     "text": [
      "[2018-05-09 10:18:12,496] Starting new video recorder writing to /tmp/openaigym.video.0.27601.video000106.mp4\n"
     ]
    },
    {
     "name": "stdout",
     "output_type": "stream",
     "text": [
      "episode: 105/1000, score: 21, e: 0.6\n"
     ]
    },
    {
     "name": "stderr",
     "output_type": "stream",
     "text": [
      "[2018-05-09 10:18:12,827] Starting new video recorder writing to /tmp/openaigym.video.0.27601.video000107.mp4\n"
     ]
    },
    {
     "name": "stdout",
     "output_type": "stream",
     "text": [
      "episode: 106/1000, score: 14, e: 0.59\n"
     ]
    },
    {
     "name": "stderr",
     "output_type": "stream",
     "text": [
      "[2018-05-09 10:18:13,409] Starting new video recorder writing to /tmp/openaigym.video.0.27601.video000108.mp4\n"
     ]
    },
    {
     "name": "stdout",
     "output_type": "stream",
     "text": [
      "episode: 107/1000, score: 35, e: 0.59\n"
     ]
    },
    {
     "name": "stderr",
     "output_type": "stream",
     "text": [
      "[2018-05-09 10:18:13,884] Starting new video recorder writing to /tmp/openaigym.video.0.27601.video000109.mp4\n"
     ]
    },
    {
     "name": "stdout",
     "output_type": "stream",
     "text": [
      "episode: 108/1000, score: 25, e: 0.59\n"
     ]
    },
    {
     "name": "stderr",
     "output_type": "stream",
     "text": [
      "[2018-05-09 10:18:14,376] Starting new video recorder writing to /tmp/openaigym.video.0.27601.video000110.mp4\n"
     ]
    },
    {
     "name": "stdout",
     "output_type": "stream",
     "text": [
      "episode: 109/1000, score: 26, e: 0.58\n"
     ]
    },
    {
     "name": "stderr",
     "output_type": "stream",
     "text": [
      "[2018-05-09 10:18:14,735] Starting new video recorder writing to /tmp/openaigym.video.0.27601.video000111.mp4\n"
     ]
    },
    {
     "name": "stdout",
     "output_type": "stream",
     "text": [
      "episode: 110/1000, score: 17, e: 0.58\n",
      "episode: 111/1000, score: 65, e: 0.58\n"
     ]
    },
    {
     "name": "stderr",
     "output_type": "stream",
     "text": [
      "[2018-05-09 10:18:15,779] Starting new video recorder writing to /tmp/openaigym.video.0.27601.video000112.mp4\n",
      "[2018-05-09 10:18:16,069] Starting new video recorder writing to /tmp/openaigym.video.0.27601.video000113.mp4\n"
     ]
    },
    {
     "name": "stdout",
     "output_type": "stream",
     "text": [
      "episode: 112/1000, score: 10, e: 0.58\n"
     ]
    },
    {
     "name": "stderr",
     "output_type": "stream",
     "text": [
      "[2018-05-09 10:18:16,417] Starting new video recorder writing to /tmp/openaigym.video.0.27601.video000114.mp4\n"
     ]
    },
    {
     "name": "stdout",
     "output_type": "stream",
     "text": [
      "episode: 113/1000, score: 17, e: 0.57\n"
     ]
    },
    {
     "name": "stderr",
     "output_type": "stream",
     "text": [
      "[2018-05-09 10:18:16,725] Starting new video recorder writing to /tmp/openaigym.video.0.27601.video000115.mp4\n"
     ]
    },
    {
     "name": "stdout",
     "output_type": "stream",
     "text": [
      "episode: 114/1000, score: 14, e: 0.57\n"
     ]
    },
    {
     "name": "stderr",
     "output_type": "stream",
     "text": [
      "[2018-05-09 10:18:17,068] Starting new video recorder writing to /tmp/openaigym.video.0.27601.video000116.mp4\n"
     ]
    },
    {
     "name": "stdout",
     "output_type": "stream",
     "text": [
      "episode: 115/1000, score: 16, e: 0.57\n"
     ]
    },
    {
     "name": "stderr",
     "output_type": "stream",
     "text": [
      "[2018-05-09 10:18:17,762] Starting new video recorder writing to /tmp/openaigym.video.0.27601.video000117.mp4\n"
     ]
    },
    {
     "name": "stdout",
     "output_type": "stream",
     "text": [
      "episode: 116/1000, score: 45, e: 0.56\n"
     ]
    },
    {
     "name": "stderr",
     "output_type": "stream",
     "text": [
      "[2018-05-09 10:18:18,119] Starting new video recorder writing to /tmp/openaigym.video.0.27601.video000118.mp4\n"
     ]
    },
    {
     "name": "stdout",
     "output_type": "stream",
     "text": [
      "episode: 117/1000, score: 19, e: 0.56\n"
     ]
    },
    {
     "name": "stderr",
     "output_type": "stream",
     "text": [
      "[2018-05-09 10:18:18,552] Starting new video recorder writing to /tmp/openaigym.video.0.27601.video000119.mp4\n"
     ]
    },
    {
     "name": "stdout",
     "output_type": "stream",
     "text": [
      "episode: 118/1000, score: 23, e: 0.56\n"
     ]
    },
    {
     "name": "stderr",
     "output_type": "stream",
     "text": [
      "[2018-05-09 10:18:18,875] Starting new video recorder writing to /tmp/openaigym.video.0.27601.video000120.mp4\n"
     ]
    },
    {
     "name": "stdout",
     "output_type": "stream",
     "text": [
      "episode: 119/1000, score: 10, e: 0.56\n"
     ]
    },
    {
     "name": "stderr",
     "output_type": "stream",
     "text": [
      "[2018-05-09 10:18:19,470] Starting new video recorder writing to /tmp/openaigym.video.0.27601.video000121.mp4\n"
     ]
    },
    {
     "name": "stdout",
     "output_type": "stream",
     "text": [
      "episode: 120/1000, score: 47, e: 0.55\n"
     ]
    },
    {
     "name": "stderr",
     "output_type": "stream",
     "text": [
      "[2018-05-09 10:18:19,865] Starting new video recorder writing to /tmp/openaigym.video.0.27601.video000122.mp4\n"
     ]
    },
    {
     "name": "stdout",
     "output_type": "stream",
     "text": [
      "episode: 121/1000, score: 20, e: 0.55\n"
     ]
    },
    {
     "name": "stderr",
     "output_type": "stream",
     "text": [
      "[2018-05-09 10:18:20,289] Starting new video recorder writing to /tmp/openaigym.video.0.27601.video000123.mp4\n"
     ]
    },
    {
     "name": "stdout",
     "output_type": "stream",
     "text": [
      "episode: 122/1000, score: 24, e: 0.55\n"
     ]
    },
    {
     "name": "stderr",
     "output_type": "stream",
     "text": [
      "[2018-05-09 10:18:20,930] Starting new video recorder writing to /tmp/openaigym.video.0.27601.video000124.mp4\n"
     ]
    },
    {
     "name": "stdout",
     "output_type": "stream",
     "text": [
      "episode: 123/1000, score: 42, e: 0.55\n"
     ]
    },
    {
     "name": "stderr",
     "output_type": "stream",
     "text": [
      "[2018-05-09 10:18:21,462] Starting new video recorder writing to /tmp/openaigym.video.0.27601.video000125.mp4\n"
     ]
    },
    {
     "name": "stdout",
     "output_type": "stream",
     "text": [
      "episode: 124/1000, score: 25, e: 0.54\n"
     ]
    },
    {
     "name": "stderr",
     "output_type": "stream",
     "text": [
      "[2018-05-09 10:18:22,053] Starting new video recorder writing to /tmp/openaigym.video.0.27601.video000126.mp4\n"
     ]
    },
    {
     "name": "stdout",
     "output_type": "stream",
     "text": [
      "episode: 125/1000, score: 12, e: 0.54\n"
     ]
    },
    {
     "name": "stderr",
     "output_type": "stream",
     "text": [
      "[2018-05-09 10:18:22,427] Starting new video recorder writing to /tmp/openaigym.video.0.27601.video000127.mp4\n"
     ]
    },
    {
     "name": "stdout",
     "output_type": "stream",
     "text": [
      "episode: 126/1000, score: 12, e: 0.54\n"
     ]
    },
    {
     "name": "stderr",
     "output_type": "stream",
     "text": [
      "[2018-05-09 10:18:23,304] Starting new video recorder writing to /tmp/openaigym.video.0.27601.video000128.mp4\n"
     ]
    },
    {
     "name": "stdout",
     "output_type": "stream",
     "text": [
      "episode: 127/1000, score: 44, e: 0.53\n"
     ]
    },
    {
     "name": "stderr",
     "output_type": "stream",
     "text": [
      "[2018-05-09 10:18:23,984] Starting new video recorder writing to /tmp/openaigym.video.0.27601.video000129.mp4\n"
     ]
    },
    {
     "name": "stdout",
     "output_type": "stream",
     "text": [
      "episode: 128/1000, score: 30, e: 0.53\n"
     ]
    },
    {
     "name": "stderr",
     "output_type": "stream",
     "text": [
      "[2018-05-09 10:18:24,612] Starting new video recorder writing to /tmp/openaigym.video.0.27601.video000130.mp4\n"
     ]
    },
    {
     "name": "stdout",
     "output_type": "stream",
     "text": [
      "episode: 129/1000, score: 26, e: 0.53\n"
     ]
    },
    {
     "name": "stderr",
     "output_type": "stream",
     "text": [
      "[2018-05-09 10:18:25,194] Starting new video recorder writing to /tmp/openaigym.video.0.27601.video000131.mp4\n"
     ]
    },
    {
     "name": "stdout",
     "output_type": "stream",
     "text": [
      "episode: 130/1000, score: 25, e: 0.53\n"
     ]
    },
    {
     "name": "stderr",
     "output_type": "stream",
     "text": [
      "[2018-05-09 10:18:25,756] Starting new video recorder writing to /tmp/openaigym.video.0.27601.video000132.mp4\n"
     ]
    },
    {
     "name": "stdout",
     "output_type": "stream",
     "text": [
      "episode: 131/1000, score: 25, e: 0.52\n"
     ]
    },
    {
     "name": "stderr",
     "output_type": "stream",
     "text": [
      "[2018-05-09 10:18:26,433] Starting new video recorder writing to /tmp/openaigym.video.0.27601.video000133.mp4\n"
     ]
    },
    {
     "name": "stdout",
     "output_type": "stream",
     "text": [
      "episode: 132/1000, score: 31, e: 0.52\n"
     ]
    },
    {
     "name": "stderr",
     "output_type": "stream",
     "text": [
      "[2018-05-09 10:18:26,854] Starting new video recorder writing to /tmp/openaigym.video.0.27601.video000134.mp4\n"
     ]
    },
    {
     "name": "stdout",
     "output_type": "stream",
     "text": [
      "episode: 133/1000, score: 16, e: 0.52\n"
     ]
    },
    {
     "name": "stderr",
     "output_type": "stream",
     "text": [
      "[2018-05-09 10:18:27,246] Starting new video recorder writing to /tmp/openaigym.video.0.27601.video000135.mp4\n"
     ]
    },
    {
     "name": "stdout",
     "output_type": "stream",
     "text": [
      "episode: 134/1000, score: 15, e: 0.52\n"
     ]
    },
    {
     "name": "stderr",
     "output_type": "stream",
     "text": [
      "[2018-05-09 10:18:27,610] Starting new video recorder writing to /tmp/openaigym.video.0.27601.video000136.mp4\n"
     ]
    },
    {
     "name": "stdout",
     "output_type": "stream",
     "text": [
      "episode: 135/1000, score: 14, e: 0.51\n"
     ]
    },
    {
     "name": "stderr",
     "output_type": "stream",
     "text": [
      "[2018-05-09 10:18:28,121] Starting new video recorder writing to /tmp/openaigym.video.0.27601.video000137.mp4\n"
     ]
    },
    {
     "name": "stdout",
     "output_type": "stream",
     "text": [
      "episode: 136/1000, score: 22, e: 0.51\n"
     ]
    },
    {
     "name": "stderr",
     "output_type": "stream",
     "text": [
      "[2018-05-09 10:18:28,943] Starting new video recorder writing to /tmp/openaigym.video.0.27601.video000138.mp4\n"
     ]
    },
    {
     "name": "stdout",
     "output_type": "stream",
     "text": [
      "episode: 137/1000, score: 38, e: 0.51\n"
     ]
    },
    {
     "name": "stderr",
     "output_type": "stream",
     "text": [
      "[2018-05-09 10:18:29,758] Starting new video recorder writing to /tmp/openaigym.video.0.27601.video000139.mp4\n"
     ]
    },
    {
     "name": "stdout",
     "output_type": "stream",
     "text": [
      "episode: 138/1000, score: 39, e: 0.51\n"
     ]
    },
    {
     "name": "stderr",
     "output_type": "stream",
     "text": [
      "[2018-05-09 10:18:30,414] Starting new video recorder writing to /tmp/openaigym.video.0.27601.video000140.mp4\n"
     ]
    },
    {
     "name": "stdout",
     "output_type": "stream",
     "text": [
      "episode: 139/1000, score: 30, e: 0.5\n"
     ]
    },
    {
     "name": "stderr",
     "output_type": "stream",
     "text": [
      "[2018-05-09 10:18:30,983] Starting new video recorder writing to /tmp/openaigym.video.0.27601.video000141.mp4\n"
     ]
    },
    {
     "name": "stdout",
     "output_type": "stream",
     "text": [
      "episode: 140/1000, score: 24, e: 0.5\n"
     ]
    },
    {
     "name": "stderr",
     "output_type": "stream",
     "text": [
      "[2018-05-09 10:18:31,538] Starting new video recorder writing to /tmp/openaigym.video.0.27601.video000142.mp4\n"
     ]
    },
    {
     "name": "stdout",
     "output_type": "stream",
     "text": [
      "episode: 141/1000, score: 24, e: 0.5\n"
     ]
    },
    {
     "name": "stderr",
     "output_type": "stream",
     "text": [
      "[2018-05-09 10:18:32,818] Starting new video recorder writing to /tmp/openaigym.video.0.27601.video000143.mp4\n"
     ]
    },
    {
     "name": "stdout",
     "output_type": "stream",
     "text": [
      "episode: 142/1000, score: 68, e: 0.5\n"
     ]
    },
    {
     "name": "stderr",
     "output_type": "stream",
     "text": [
      "[2018-05-09 10:18:33,356] Starting new video recorder writing to /tmp/openaigym.video.0.27601.video000144.mp4\n"
     ]
    },
    {
     "name": "stdout",
     "output_type": "stream",
     "text": [
      "episode: 143/1000, score: 23, e: 0.49\n"
     ]
    },
    {
     "name": "stderr",
     "output_type": "stream",
     "text": [
      "[2018-05-09 10:18:34,470] Starting new video recorder writing to /tmp/openaigym.video.0.27601.video000145.mp4\n"
     ]
    },
    {
     "name": "stdout",
     "output_type": "stream",
     "text": [
      "episode: 144/1000, score: 58, e: 0.49\n"
     ]
    },
    {
     "name": "stderr",
     "output_type": "stream",
     "text": [
      "[2018-05-09 10:18:35,133] Starting new video recorder writing to /tmp/openaigym.video.0.27601.video000146.mp4\n"
     ]
    },
    {
     "name": "stdout",
     "output_type": "stream",
     "text": [
      "episode: 145/1000, score: 30, e: 0.49\n"
     ]
    },
    {
     "name": "stderr",
     "output_type": "stream",
     "text": [
      "[2018-05-09 10:18:35,586] Starting new video recorder writing to /tmp/openaigym.video.0.27601.video000147.mp4\n"
     ]
    },
    {
     "name": "stdout",
     "output_type": "stream",
     "text": [
      "episode: 146/1000, score: 19, e: 0.49\n"
     ]
    },
    {
     "name": "stderr",
     "output_type": "stream",
     "text": [
      "[2018-05-09 10:18:36,054] Starting new video recorder writing to /tmp/openaigym.video.0.27601.video000148.mp4\n"
     ]
    },
    {
     "name": "stdout",
     "output_type": "stream",
     "text": [
      "episode: 147/1000, score: 19, e: 0.48\n"
     ]
    },
    {
     "name": "stderr",
     "output_type": "stream",
     "text": [
      "[2018-05-09 10:18:36,539] Starting new video recorder writing to /tmp/openaigym.video.0.27601.video000149.mp4\n"
     ]
    },
    {
     "name": "stdout",
     "output_type": "stream",
     "text": [
      "episode: 148/1000, score: 20, e: 0.48\n"
     ]
    },
    {
     "name": "stderr",
     "output_type": "stream",
     "text": [
      "[2018-05-09 10:18:37,068] Starting new video recorder writing to /tmp/openaigym.video.0.27601.video000150.mp4\n"
     ]
    },
    {
     "name": "stdout",
     "output_type": "stream",
     "text": [
      "episode: 149/1000, score: 22, e: 0.48\n"
     ]
    },
    {
     "name": "stderr",
     "output_type": "stream",
     "text": [
      "[2018-05-09 10:18:37,392] Starting new video recorder writing to /tmp/openaigym.video.0.27601.video000151.mp4\n"
     ]
    },
    {
     "name": "stdout",
     "output_type": "stream",
     "text": [
      "episode: 150/1000, score: 12, e: 0.48\n"
     ]
    },
    {
     "name": "stderr",
     "output_type": "stream",
     "text": [
      "[2018-05-09 10:18:37,881] Starting new video recorder writing to /tmp/openaigym.video.0.27601.video000152.mp4\n"
     ]
    },
    {
     "name": "stdout",
     "output_type": "stream",
     "text": [
      "episode: 151/1000, score: 20, e: 0.47\n"
     ]
    },
    {
     "name": "stderr",
     "output_type": "stream",
     "text": [
      "[2018-05-09 10:18:38,315] Starting new video recorder writing to /tmp/openaigym.video.0.27601.video000153.mp4\n"
     ]
    },
    {
     "name": "stdout",
     "output_type": "stream",
     "text": [
      "episode: 152/1000, score: 17, e: 0.47\n"
     ]
    },
    {
     "name": "stderr",
     "output_type": "stream",
     "text": [
      "[2018-05-09 10:18:38,799] Starting new video recorder writing to /tmp/openaigym.video.0.27601.video000154.mp4\n"
     ]
    },
    {
     "name": "stdout",
     "output_type": "stream",
     "text": [
      "episode: 153/1000, score: 21, e: 0.47\n"
     ]
    },
    {
     "name": "stderr",
     "output_type": "stream",
     "text": [
      "[2018-05-09 10:18:39,253] Starting new video recorder writing to /tmp/openaigym.video.0.27601.video000155.mp4\n"
     ]
    },
    {
     "name": "stdout",
     "output_type": "stream",
     "text": [
      "episode: 154/1000, score: 19, e: 0.47\n"
     ]
    },
    {
     "name": "stderr",
     "output_type": "stream",
     "text": [
      "[2018-05-09 10:18:39,969] Starting new video recorder writing to /tmp/openaigym.video.0.27601.video000156.mp4\n"
     ]
    },
    {
     "name": "stdout",
     "output_type": "stream",
     "text": [
      "episode: 155/1000, score: 33, e: 0.46\n"
     ]
    },
    {
     "name": "stderr",
     "output_type": "stream",
     "text": [
      "[2018-05-09 10:18:40,498] Starting new video recorder writing to /tmp/openaigym.video.0.27601.video000157.mp4\n"
     ]
    },
    {
     "name": "stdout",
     "output_type": "stream",
     "text": [
      "episode: 156/1000, score: 22, e: 0.46\n"
     ]
    },
    {
     "name": "stderr",
     "output_type": "stream",
     "text": [
      "[2018-05-09 10:18:41,006] Starting new video recorder writing to /tmp/openaigym.video.0.27601.video000158.mp4\n"
     ]
    },
    {
     "name": "stdout",
     "output_type": "stream",
     "text": [
      "episode: 157/1000, score: 20, e: 0.46\n"
     ]
    },
    {
     "name": "stderr",
     "output_type": "stream",
     "text": [
      "[2018-05-09 10:18:41,561] Starting new video recorder writing to /tmp/openaigym.video.0.27601.video000159.mp4\n"
     ]
    },
    {
     "name": "stdout",
     "output_type": "stream",
     "text": [
      "episode: 158/1000, score: 24, e: 0.46\n"
     ]
    },
    {
     "name": "stderr",
     "output_type": "stream",
     "text": [
      "[2018-05-09 10:18:42,147] Starting new video recorder writing to /tmp/openaigym.video.0.27601.video000160.mp4\n"
     ]
    },
    {
     "name": "stdout",
     "output_type": "stream",
     "text": [
      "episode: 159/1000, score: 25, e: 0.46\n"
     ]
    },
    {
     "name": "stderr",
     "output_type": "stream",
     "text": [
      "[2018-05-09 10:18:42,607] Starting new video recorder writing to /tmp/openaigym.video.0.27601.video000161.mp4\n"
     ]
    },
    {
     "name": "stdout",
     "output_type": "stream",
     "text": [
      "episode: 160/1000, score: 18, e: 0.45\n"
     ]
    },
    {
     "name": "stderr",
     "output_type": "stream",
     "text": [
      "[2018-05-09 10:18:42,934] Starting new video recorder writing to /tmp/openaigym.video.0.27601.video000162.mp4\n"
     ]
    },
    {
     "name": "stdout",
     "output_type": "stream",
     "text": [
      "episode: 161/1000, score: 10, e: 0.45\n"
     ]
    },
    {
     "name": "stderr",
     "output_type": "stream",
     "text": [
      "[2018-05-09 10:18:43,350] Starting new video recorder writing to /tmp/openaigym.video.0.27601.video000163.mp4\n"
     ]
    },
    {
     "name": "stdout",
     "output_type": "stream",
     "text": [
      "episode: 162/1000, score: 15, e: 0.45\n"
     ]
    },
    {
     "name": "stderr",
     "output_type": "stream",
     "text": [
      "[2018-05-09 10:18:43,729] Starting new video recorder writing to /tmp/openaigym.video.0.27601.video000164.mp4\n"
     ]
    },
    {
     "name": "stdout",
     "output_type": "stream",
     "text": [
      "episode: 163/1000, score: 14, e: 0.45\n"
     ]
    },
    {
     "name": "stderr",
     "output_type": "stream",
     "text": [
      "[2018-05-09 10:18:44,090] Starting new video recorder writing to /tmp/openaigym.video.0.27601.video000165.mp4\n"
     ]
    },
    {
     "name": "stdout",
     "output_type": "stream",
     "text": [
      "episode: 164/1000, score: 13, e: 0.44\n"
     ]
    },
    {
     "name": "stderr",
     "output_type": "stream",
     "text": [
      "[2018-05-09 10:18:44,428] Starting new video recorder writing to /tmp/openaigym.video.0.27601.video000166.mp4\n"
     ]
    },
    {
     "name": "stdout",
     "output_type": "stream",
     "text": [
      "episode: 165/1000, score: 11, e: 0.44\n"
     ]
    },
    {
     "name": "stderr",
     "output_type": "stream",
     "text": [
      "[2018-05-09 10:18:44,791] Starting new video recorder writing to /tmp/openaigym.video.0.27601.video000167.mp4\n"
     ]
    },
    {
     "name": "stdout",
     "output_type": "stream",
     "text": [
      "episode: 166/1000, score: 13, e: 0.44\n"
     ]
    },
    {
     "name": "stderr",
     "output_type": "stream",
     "text": [
      "[2018-05-09 10:18:45,103] Starting new video recorder writing to /tmp/openaigym.video.0.27601.video000168.mp4\n"
     ]
    },
    {
     "name": "stdout",
     "output_type": "stream",
     "text": [
      "episode: 167/1000, score: 10, e: 0.44\n"
     ]
    },
    {
     "name": "stderr",
     "output_type": "stream",
     "text": [
      "[2018-05-09 10:18:45,532] Starting new video recorder writing to /tmp/openaigym.video.0.27601.video000169.mp4\n"
     ]
    },
    {
     "name": "stdout",
     "output_type": "stream",
     "text": [
      "episode: 168/1000, score: 16, e: 0.44\n"
     ]
    },
    {
     "name": "stderr",
     "output_type": "stream",
     "text": [
      "[2018-05-09 10:18:46,040] Starting new video recorder writing to /tmp/openaigym.video.0.27601.video000170.mp4\n"
     ]
    },
    {
     "name": "stdout",
     "output_type": "stream",
     "text": [
      "episode: 169/1000, score: 20, e: 0.43\n"
     ]
    },
    {
     "name": "stderr",
     "output_type": "stream",
     "text": [
      "[2018-05-09 10:18:46,416] Starting new video recorder writing to /tmp/openaigym.video.0.27601.video000171.mp4\n"
     ]
    },
    {
     "name": "stdout",
     "output_type": "stream",
     "text": [
      "episode: 170/1000, score: 14, e: 0.43\n"
     ]
    },
    {
     "name": "stderr",
     "output_type": "stream",
     "text": [
      "[2018-05-09 10:18:46,778] Starting new video recorder writing to /tmp/openaigym.video.0.27601.video000172.mp4\n"
     ]
    },
    {
     "name": "stdout",
     "output_type": "stream",
     "text": [
      "episode: 171/1000, score: 13, e: 0.43\n"
     ]
    },
    {
     "name": "stderr",
     "output_type": "stream",
     "text": [
      "[2018-05-09 10:18:47,164] Starting new video recorder writing to /tmp/openaigym.video.0.27601.video000173.mp4\n"
     ]
    },
    {
     "name": "stdout",
     "output_type": "stream",
     "text": [
      "episode: 172/1000, score: 14, e: 0.43\n"
     ]
    },
    {
     "name": "stderr",
     "output_type": "stream",
     "text": [
      "[2018-05-09 10:18:47,562] Starting new video recorder writing to /tmp/openaigym.video.0.27601.video000174.mp4\n"
     ]
    },
    {
     "name": "stdout",
     "output_type": "stream",
     "text": [
      "episode: 173/1000, score: 15, e: 0.42\n"
     ]
    },
    {
     "name": "stderr",
     "output_type": "stream",
     "text": [
      "[2018-05-09 10:18:48,026] Starting new video recorder writing to /tmp/openaigym.video.0.27601.video000175.mp4\n"
     ]
    },
    {
     "name": "stdout",
     "output_type": "stream",
     "text": [
      "episode: 174/1000, score: 18, e: 0.42\n"
     ]
    },
    {
     "name": "stderr",
     "output_type": "stream",
     "text": [
      "[2018-05-09 10:18:48,436] Starting new video recorder writing to /tmp/openaigym.video.0.27601.video000176.mp4\n"
     ]
    },
    {
     "name": "stdout",
     "output_type": "stream",
     "text": [
      "episode: 175/1000, score: 15, e: 0.42\n"
     ]
    },
    {
     "name": "stderr",
     "output_type": "stream",
     "text": [
      "[2018-05-09 10:18:48,684] Starting new video recorder writing to /tmp/openaigym.video.0.27601.video000177.mp4\n"
     ]
    },
    {
     "name": "stdout",
     "output_type": "stream",
     "text": [
      "episode: 176/1000, score: 7, e: 0.42\n"
     ]
    },
    {
     "name": "stderr",
     "output_type": "stream",
     "text": [
      "[2018-05-09 10:18:49,054] Starting new video recorder writing to /tmp/openaigym.video.0.27601.video000178.mp4\n"
     ]
    },
    {
     "name": "stdout",
     "output_type": "stream",
     "text": [
      "episode: 177/1000, score: 13, e: 0.42\n"
     ]
    },
    {
     "name": "stderr",
     "output_type": "stream",
     "text": [
      "[2018-05-09 10:18:49,326] Starting new video recorder writing to /tmp/openaigym.video.0.27601.video000179.mp4\n"
     ]
    },
    {
     "name": "stdout",
     "output_type": "stream",
     "text": [
      "episode: 178/1000, score: 8, e: 0.41\n"
     ]
    },
    {
     "name": "stderr",
     "output_type": "stream",
     "text": [
      "[2018-05-09 10:18:49,658] Starting new video recorder writing to /tmp/openaigym.video.0.27601.video000180.mp4\n"
     ]
    },
    {
     "name": "stdout",
     "output_type": "stream",
     "text": [
      "episode: 179/1000, score: 11, e: 0.41\n"
     ]
    },
    {
     "name": "stderr",
     "output_type": "stream",
     "text": [
      "[2018-05-09 10:18:49,950] Starting new video recorder writing to /tmp/openaigym.video.0.27601.video000181.mp4\n"
     ]
    },
    {
     "name": "stdout",
     "output_type": "stream",
     "text": [
      "episode: 180/1000, score: 8, e: 0.41\n"
     ]
    },
    {
     "name": "stderr",
     "output_type": "stream",
     "text": [
      "[2018-05-09 10:18:50,384] Starting new video recorder writing to /tmp/openaigym.video.0.27601.video000182.mp4\n"
     ]
    },
    {
     "name": "stdout",
     "output_type": "stream",
     "text": [
      "episode: 181/1000, score: 17, e: 0.41\n"
     ]
    },
    {
     "name": "stderr",
     "output_type": "stream",
     "text": [
      "[2018-05-09 10:18:50,852] Starting new video recorder writing to /tmp/openaigym.video.0.27601.video000183.mp4\n"
     ]
    },
    {
     "name": "stdout",
     "output_type": "stream",
     "text": [
      "episode: 182/1000, score: 18, e: 0.41\n"
     ]
    },
    {
     "name": "stderr",
     "output_type": "stream",
     "text": [
      "[2018-05-09 10:18:51,246] Starting new video recorder writing to /tmp/openaigym.video.0.27601.video000184.mp4\n"
     ]
    },
    {
     "name": "stdout",
     "output_type": "stream",
     "text": [
      "episode: 183/1000, score: 15, e: 0.4\n"
     ]
    },
    {
     "name": "stderr",
     "output_type": "stream",
     "text": [
      "[2018-05-09 10:18:51,708] Starting new video recorder writing to /tmp/openaigym.video.0.27601.video000185.mp4\n"
     ]
    },
    {
     "name": "stdout",
     "output_type": "stream",
     "text": [
      "episode: 184/1000, score: 18, e: 0.4\n"
     ]
    },
    {
     "name": "stderr",
     "output_type": "stream",
     "text": [
      "[2018-05-09 10:18:52,053] Starting new video recorder writing to /tmp/openaigym.video.0.27601.video000186.mp4\n"
     ]
    },
    {
     "name": "stdout",
     "output_type": "stream",
     "text": [
      "episode: 185/1000, score: 11, e: 0.4\n"
     ]
    },
    {
     "name": "stderr",
     "output_type": "stream",
     "text": [
      "[2018-05-09 10:18:52,411] Starting new video recorder writing to /tmp/openaigym.video.0.27601.video000187.mp4\n"
     ]
    },
    {
     "name": "stdout",
     "output_type": "stream",
     "text": [
      "episode: 186/1000, score: 13, e: 0.4\n"
     ]
    },
    {
     "name": "stderr",
     "output_type": "stream",
     "text": [
      "[2018-05-09 10:18:52,778] Starting new video recorder writing to /tmp/openaigym.video.0.27601.video000188.mp4\n"
     ]
    },
    {
     "name": "stdout",
     "output_type": "stream",
     "text": [
      "episode: 187/1000, score: 13, e: 0.4\n",
      "episode: 188/1000, score: 13, e: 0.39\n"
     ]
    },
    {
     "name": "stderr",
     "output_type": "stream",
     "text": [
      "[2018-05-09 10:18:53,346] Starting new video recorder writing to /tmp/openaigym.video.0.27601.video000189.mp4\n",
      "[2018-05-09 10:18:53,676] Starting new video recorder writing to /tmp/openaigym.video.0.27601.video000190.mp4\n"
     ]
    },
    {
     "name": "stdout",
     "output_type": "stream",
     "text": [
      "episode: 189/1000, score: 11, e: 0.39\n"
     ]
    },
    {
     "name": "stderr",
     "output_type": "stream",
     "text": [
      "[2018-05-09 10:18:54,095] Starting new video recorder writing to /tmp/openaigym.video.0.27601.video000191.mp4\n"
     ]
    },
    {
     "name": "stdout",
     "output_type": "stream",
     "text": [
      "episode: 190/1000, score: 16, e: 0.39\n"
     ]
    },
    {
     "name": "stderr",
     "output_type": "stream",
     "text": [
      "[2018-05-09 10:18:54,433] Starting new video recorder writing to /tmp/openaigym.video.0.27601.video000192.mp4\n"
     ]
    },
    {
     "name": "stdout",
     "output_type": "stream",
     "text": [
      "episode: 191/1000, score: 10, e: 0.39\n"
     ]
    },
    {
     "name": "stderr",
     "output_type": "stream",
     "text": [
      "[2018-05-09 10:18:55,054] Starting new video recorder writing to /tmp/openaigym.video.0.27601.video000193.mp4\n"
     ]
    },
    {
     "name": "stdout",
     "output_type": "stream",
     "text": [
      "episode: 192/1000, score: 27, e: 0.39\n"
     ]
    },
    {
     "name": "stderr",
     "output_type": "stream",
     "text": [
      "[2018-05-09 10:18:55,549] Starting new video recorder writing to /tmp/openaigym.video.0.27601.video000194.mp4\n"
     ]
    },
    {
     "name": "stdout",
     "output_type": "stream",
     "text": [
      "episode: 193/1000, score: 16, e: 0.38\n"
     ]
    },
    {
     "name": "stderr",
     "output_type": "stream",
     "text": [
      "[2018-05-09 10:18:55,960] Starting new video recorder writing to /tmp/openaigym.video.0.27601.video000195.mp4\n"
     ]
    },
    {
     "name": "stdout",
     "output_type": "stream",
     "text": [
      "episode: 194/1000, score: 21, e: 0.38\n"
     ]
    },
    {
     "name": "stderr",
     "output_type": "stream",
     "text": [
      "[2018-05-09 10:18:56,556] Starting new video recorder writing to /tmp/openaigym.video.0.27601.video000196.mp4\n"
     ]
    },
    {
     "name": "stdout",
     "output_type": "stream",
     "text": [
      "episode: 195/1000, score: 26, e: 0.38\n"
     ]
    },
    {
     "name": "stderr",
     "output_type": "stream",
     "text": [
      "[2018-05-09 10:18:57,001] Starting new video recorder writing to /tmp/openaigym.video.0.27601.video000197.mp4\n"
     ]
    },
    {
     "name": "stdout",
     "output_type": "stream",
     "text": [
      "episode: 196/1000, score: 17, e: 0.38\n"
     ]
    },
    {
     "name": "stderr",
     "output_type": "stream",
     "text": [
      "[2018-05-09 10:18:57,551] Starting new video recorder writing to /tmp/openaigym.video.0.27601.video000198.mp4\n"
     ]
    },
    {
     "name": "stdout",
     "output_type": "stream",
     "text": [
      "episode: 197/1000, score: 27, e: 0.38\n"
     ]
    },
    {
     "name": "stderr",
     "output_type": "stream",
     "text": [
      "[2018-05-09 10:18:58,059] Starting new video recorder writing to /tmp/openaigym.video.0.27601.video000199.mp4\n"
     ]
    },
    {
     "name": "stdout",
     "output_type": "stream",
     "text": [
      "episode: 198/1000, score: 28, e: 0.37\n"
     ]
    },
    {
     "name": "stderr",
     "output_type": "stream",
     "text": [
      "[2018-05-09 10:18:58,508] Starting new video recorder writing to /tmp/openaigym.video.0.27601.video000200.mp4\n"
     ]
    },
    {
     "name": "stdout",
     "output_type": "stream",
     "text": [
      "episode: 199/1000, score: 23, e: 0.37\n"
     ]
    },
    {
     "name": "stderr",
     "output_type": "stream",
     "text": [
      "[2018-05-09 10:18:58,914] Starting new video recorder writing to /tmp/openaigym.video.0.27601.video000201.mp4\n"
     ]
    },
    {
     "name": "stdout",
     "output_type": "stream",
     "text": [
      "episode: 200/1000, score: 24, e: 0.37\n"
     ]
    },
    {
     "name": "stderr",
     "output_type": "stream",
     "text": [
      "[2018-05-09 10:18:59,633] Starting new video recorder writing to /tmp/openaigym.video.0.27601.video000202.mp4\n"
     ]
    },
    {
     "name": "stdout",
     "output_type": "stream",
     "text": [
      "episode: 201/1000, score: 37, e: 0.37\n"
     ]
    },
    {
     "name": "stderr",
     "output_type": "stream",
     "text": [
      "[2018-05-09 10:19:00,103] Starting new video recorder writing to /tmp/openaigym.video.0.27601.video000203.mp4\n"
     ]
    },
    {
     "name": "stdout",
     "output_type": "stream",
     "text": [
      "episode: 202/1000, score: 23, e: 0.37\n"
     ]
    },
    {
     "name": "stderr",
     "output_type": "stream",
     "text": [
      "[2018-05-09 10:19:00,652] Starting new video recorder writing to /tmp/openaigym.video.0.27601.video000204.mp4\n"
     ]
    },
    {
     "name": "stdout",
     "output_type": "stream",
     "text": [
      "episode: 203/1000, score: 33, e: 0.37\n"
     ]
    },
    {
     "name": "stderr",
     "output_type": "stream",
     "text": [
      "[2018-05-09 10:19:01,741] Starting new video recorder writing to /tmp/openaigym.video.0.27601.video000205.mp4\n"
     ]
    },
    {
     "name": "stdout",
     "output_type": "stream",
     "text": [
      "episode: 204/1000, score: 82, e: 0.36\n"
     ]
    },
    {
     "name": "stderr",
     "output_type": "stream",
     "text": [
      "[2018-05-09 10:19:02,353] Starting new video recorder writing to /tmp/openaigym.video.0.27601.video000206.mp4\n"
     ]
    },
    {
     "name": "stdout",
     "output_type": "stream",
     "text": [
      "episode: 205/1000, score: 35, e: 0.36\n"
     ]
    },
    {
     "name": "stderr",
     "output_type": "stream",
     "text": [
      "[2018-05-09 10:19:03,094] Starting new video recorder writing to /tmp/openaigym.video.0.27601.video000207.mp4\n"
     ]
    },
    {
     "name": "stdout",
     "output_type": "stream",
     "text": [
      "episode: 206/1000, score: 58, e: 0.36\n",
      "episode: 207/1000, score: 19, e: 0.36\n"
     ]
    },
    {
     "name": "stderr",
     "output_type": "stream",
     "text": [
      "[2018-05-09 10:19:03,942] Starting new video recorder writing to /tmp/openaigym.video.0.27601.video000208.mp4\n",
      "[2018-05-09 10:19:04,379] Starting new video recorder writing to /tmp/openaigym.video.0.27601.video000209.mp4\n"
     ]
    },
    {
     "name": "stdout",
     "output_type": "stream",
     "text": [
      "episode: 208/1000, score: 23, e: 0.36\n",
      "episode: 209/1000, score: 23, e: 0.35\n"
     ]
    },
    {
     "name": "stderr",
     "output_type": "stream",
     "text": [
      "[2018-05-09 10:19:04,858] Starting new video recorder writing to /tmp/openaigym.video.0.27601.video000210.mp4\n",
      "[2018-05-09 10:19:05,353] Starting new video recorder writing to /tmp/openaigym.video.0.27601.video000211.mp4\n"
     ]
    },
    {
     "name": "stdout",
     "output_type": "stream",
     "text": [
      "episode: 210/1000, score: 26, e: 0.35\n"
     ]
    },
    {
     "name": "stderr",
     "output_type": "stream",
     "text": [
      "[2018-05-09 10:19:05,967] Starting new video recorder writing to /tmp/openaigym.video.0.27601.video000212.mp4\n"
     ]
    },
    {
     "name": "stdout",
     "output_type": "stream",
     "text": [
      "episode: 211/1000, score: 32, e: 0.35\n"
     ]
    },
    {
     "name": "stderr",
     "output_type": "stream",
     "text": [
      "[2018-05-09 10:19:06,588] Starting new video recorder writing to /tmp/openaigym.video.0.27601.video000213.mp4\n"
     ]
    },
    {
     "name": "stdout",
     "output_type": "stream",
     "text": [
      "episode: 212/1000, score: 33, e: 0.35\n"
     ]
    },
    {
     "name": "stderr",
     "output_type": "stream",
     "text": [
      "[2018-05-09 10:19:07,201] Starting new video recorder writing to /tmp/openaigym.video.0.27601.video000214.mp4\n"
     ]
    },
    {
     "name": "stdout",
     "output_type": "stream",
     "text": [
      "episode: 213/1000, score: 30, e: 0.35\n"
     ]
    },
    {
     "name": "stderr",
     "output_type": "stream",
     "text": [
      "[2018-05-09 10:19:07,754] Starting new video recorder writing to /tmp/openaigym.video.0.27601.video000215.mp4\n"
     ]
    },
    {
     "name": "stdout",
     "output_type": "stream",
     "text": [
      "episode: 214/1000, score: 23, e: 0.35\n"
     ]
    },
    {
     "name": "stderr",
     "output_type": "stream",
     "text": [
      "[2018-05-09 10:19:08,220] Starting new video recorder writing to /tmp/openaigym.video.0.27601.video000216.mp4\n"
     ]
    },
    {
     "name": "stdout",
     "output_type": "stream",
     "text": [
      "episode: 215/1000, score: 23, e: 0.34\n"
     ]
    },
    {
     "name": "stderr",
     "output_type": "stream",
     "text": [
      "[2018-05-09 10:19:09,088] Starting new video recorder writing to /tmp/openaigym.video.0.27601.video000217.mp4\n"
     ]
    },
    {
     "name": "stdout",
     "output_type": "stream",
     "text": [
      "episode: 216/1000, score: 60, e: 0.34\n"
     ]
    },
    {
     "name": "stderr",
     "output_type": "stream",
     "text": [
      "[2018-05-09 10:19:10,045] Starting new video recorder writing to /tmp/openaigym.video.0.27601.video000218.mp4\n"
     ]
    },
    {
     "name": "stdout",
     "output_type": "stream",
     "text": [
      "episode: 217/1000, score: 58, e: 0.34\n"
     ]
    },
    {
     "name": "stderr",
     "output_type": "stream",
     "text": [
      "[2018-05-09 10:19:10,804] Starting new video recorder writing to /tmp/openaigym.video.0.27601.video000219.mp4\n"
     ]
    },
    {
     "name": "stdout",
     "output_type": "stream",
     "text": [
      "episode: 218/1000, score: 44, e: 0.34\n"
     ]
    },
    {
     "name": "stderr",
     "output_type": "stream",
     "text": [
      "[2018-05-09 10:19:11,761] Starting new video recorder writing to /tmp/openaigym.video.0.27601.video000220.mp4\n"
     ]
    },
    {
     "name": "stdout",
     "output_type": "stream",
     "text": [
      "episode: 219/1000, score: 66, e: 0.34\n"
     ]
    },
    {
     "name": "stderr",
     "output_type": "stream",
     "text": [
      "[2018-05-09 10:19:12,501] Starting new video recorder writing to /tmp/openaigym.video.0.27601.video000221.mp4\n"
     ]
    },
    {
     "name": "stdout",
     "output_type": "stream",
     "text": [
      "episode: 220/1000, score: 45, e: 0.34\n"
     ]
    },
    {
     "name": "stderr",
     "output_type": "stream",
     "text": [
      "[2018-05-09 10:19:13,321] Starting new video recorder writing to /tmp/openaigym.video.0.27601.video000222.mp4\n"
     ]
    },
    {
     "name": "stdout",
     "output_type": "stream",
     "text": [
      "episode: 221/1000, score: 53, e: 0.33\n"
     ]
    },
    {
     "name": "stderr",
     "output_type": "stream",
     "text": [
      "[2018-05-09 10:19:13,825] Starting new video recorder writing to /tmp/openaigym.video.0.27601.video000223.mp4\n"
     ]
    },
    {
     "name": "stdout",
     "output_type": "stream",
     "text": [
      "episode: 222/1000, score: 26, e: 0.33\n"
     ]
    },
    {
     "name": "stderr",
     "output_type": "stream",
     "text": [
      "[2018-05-09 10:19:14,646] Starting new video recorder writing to /tmp/openaigym.video.0.27601.video000224.mp4\n"
     ]
    },
    {
     "name": "stdout",
     "output_type": "stream",
     "text": [
      "episode: 223/1000, score: 54, e: 0.33\n"
     ]
    },
    {
     "name": "stderr",
     "output_type": "stream",
     "text": [
      "[2018-05-09 10:19:15,194] Starting new video recorder writing to /tmp/openaigym.video.0.27601.video000225.mp4\n"
     ]
    },
    {
     "name": "stdout",
     "output_type": "stream",
     "text": [
      "episode: 224/1000, score: 29, e: 0.33\n"
     ]
    },
    {
     "name": "stderr",
     "output_type": "stream",
     "text": [
      "[2018-05-09 10:19:16,301] Starting new video recorder writing to /tmp/openaigym.video.0.27601.video000226.mp4\n"
     ]
    },
    {
     "name": "stdout",
     "output_type": "stream",
     "text": [
      "episode: 225/1000, score: 72, e: 0.33\n"
     ]
    },
    {
     "name": "stderr",
     "output_type": "stream",
     "text": [
      "[2018-05-09 10:19:16,964] Starting new video recorder writing to /tmp/openaigym.video.0.27601.video000227.mp4\n"
     ]
    },
    {
     "name": "stdout",
     "output_type": "stream",
     "text": [
      "episode: 226/1000, score: 32, e: 0.33\n"
     ]
    },
    {
     "name": "stderr",
     "output_type": "stream",
     "text": [
      "[2018-05-09 10:19:17,769] Starting new video recorder writing to /tmp/openaigym.video.0.27601.video000228.mp4\n"
     ]
    },
    {
     "name": "stdout",
     "output_type": "stream",
     "text": [
      "episode: 227/1000, score: 27, e: 0.32\n"
     ]
    },
    {
     "name": "stderr",
     "output_type": "stream",
     "text": [
      "[2018-05-09 10:19:18,646] Starting new video recorder writing to /tmp/openaigym.video.0.27601.video000229.mp4\n"
     ]
    },
    {
     "name": "stdout",
     "output_type": "stream",
     "text": [
      "episode: 228/1000, score: 43, e: 0.32\n"
     ]
    },
    {
     "name": "stderr",
     "output_type": "stream",
     "text": [
      "[2018-05-09 10:19:19,534] Starting new video recorder writing to /tmp/openaigym.video.0.27601.video000230.mp4\n"
     ]
    },
    {
     "name": "stdout",
     "output_type": "stream",
     "text": [
      "episode: 229/1000, score: 43, e: 0.32\n"
     ]
    },
    {
     "name": "stderr",
     "output_type": "stream",
     "text": [
      "[2018-05-09 10:19:20,395] Starting new video recorder writing to /tmp/openaigym.video.0.27601.video000231.mp4\n"
     ]
    },
    {
     "name": "stdout",
     "output_type": "stream",
     "text": [
      "episode: 230/1000, score: 41, e: 0.32\n"
     ]
    },
    {
     "name": "stderr",
     "output_type": "stream",
     "text": [
      "[2018-05-09 10:19:20,997] Starting new video recorder writing to /tmp/openaigym.video.0.27601.video000232.mp4\n"
     ]
    },
    {
     "name": "stdout",
     "output_type": "stream",
     "text": [
      "episode: 231/1000, score: 26, e: 0.32\n"
     ]
    },
    {
     "name": "stderr",
     "output_type": "stream",
     "text": [
      "[2018-05-09 10:19:21,689] Starting new video recorder writing to /tmp/openaigym.video.0.27601.video000233.mp4\n"
     ]
    },
    {
     "name": "stdout",
     "output_type": "stream",
     "text": [
      "episode: 232/1000, score: 31, e: 0.32\n"
     ]
    },
    {
     "name": "stderr",
     "output_type": "stream",
     "text": [
      "[2018-05-09 10:19:22,489] Starting new video recorder writing to /tmp/openaigym.video.0.27601.video000234.mp4\n"
     ]
    },
    {
     "name": "stdout",
     "output_type": "stream",
     "text": [
      "episode: 233/1000, score: 37, e: 0.31\n"
     ]
    },
    {
     "name": "stderr",
     "output_type": "stream",
     "text": [
      "[2018-05-09 10:19:23,561] Starting new video recorder writing to /tmp/openaigym.video.0.27601.video000235.mp4\n"
     ]
    },
    {
     "name": "stdout",
     "output_type": "stream",
     "text": [
      "episode: 234/1000, score: 53, e: 0.31\n"
     ]
    },
    {
     "name": "stderr",
     "output_type": "stream",
     "text": [
      "[2018-05-09 10:19:24,284] Starting new video recorder writing to /tmp/openaigym.video.0.27601.video000236.mp4\n"
     ]
    },
    {
     "name": "stdout",
     "output_type": "stream",
     "text": [
      "episode: 235/1000, score: 32, e: 0.31\n"
     ]
    },
    {
     "name": "stderr",
     "output_type": "stream",
     "text": [
      "[2018-05-09 10:19:25,464] Starting new video recorder writing to /tmp/openaigym.video.0.27601.video000237.mp4\n"
     ]
    },
    {
     "name": "stdout",
     "output_type": "stream",
     "text": [
      "episode: 236/1000, score: 59, e: 0.31\n"
     ]
    },
    {
     "name": "stderr",
     "output_type": "stream",
     "text": [
      "[2018-05-09 10:19:26,472] Starting new video recorder writing to /tmp/openaigym.video.0.27601.video000238.mp4\n"
     ]
    },
    {
     "name": "stdout",
     "output_type": "stream",
     "text": [
      "episode: 237/1000, score: 44, e: 0.31\n"
     ]
    },
    {
     "name": "stderr",
     "output_type": "stream",
     "text": [
      "[2018-05-09 10:19:27,425] Starting new video recorder writing to /tmp/openaigym.video.0.27601.video000239.mp4\n"
     ]
    },
    {
     "name": "stdout",
     "output_type": "stream",
     "text": [
      "episode: 238/1000, score: 46, e: 0.31\n"
     ]
    },
    {
     "name": "stderr",
     "output_type": "stream",
     "text": [
      "[2018-05-09 10:19:28,280] Starting new video recorder writing to /tmp/openaigym.video.0.27601.video000240.mp4\n"
     ]
    },
    {
     "name": "stdout",
     "output_type": "stream",
     "text": [
      "episode: 239/1000, score: 41, e: 0.3\n"
     ]
    },
    {
     "name": "stderr",
     "output_type": "stream",
     "text": [
      "[2018-05-09 10:19:30,025] Starting new video recorder writing to /tmp/openaigym.video.0.27601.video000241.mp4\n"
     ]
    },
    {
     "name": "stdout",
     "output_type": "stream",
     "text": [
      "episode: 240/1000, score: 95, e: 0.3\n"
     ]
    },
    {
     "name": "stderr",
     "output_type": "stream",
     "text": [
      "[2018-05-09 10:19:30,654] Starting new video recorder writing to /tmp/openaigym.video.0.27601.video000242.mp4\n"
     ]
    },
    {
     "name": "stdout",
     "output_type": "stream",
     "text": [
      "episode: 241/1000, score: 28, e: 0.3\n"
     ]
    },
    {
     "name": "stderr",
     "output_type": "stream",
     "text": [
      "[2018-05-09 10:19:31,857] Starting new video recorder writing to /tmp/openaigym.video.0.27601.video000243.mp4\n"
     ]
    },
    {
     "name": "stdout",
     "output_type": "stream",
     "text": [
      "episode: 242/1000, score: 63, e: 0.3\n"
     ]
    },
    {
     "name": "stderr",
     "output_type": "stream",
     "text": [
      "[2018-05-09 10:19:33,239] Starting new video recorder writing to /tmp/openaigym.video.0.27601.video000244.mp4\n"
     ]
    },
    {
     "name": "stdout",
     "output_type": "stream",
     "text": [
      "episode: 243/1000, score: 74, e: 0.3\n"
     ]
    },
    {
     "name": "stderr",
     "output_type": "stream",
     "text": [
      "[2018-05-09 10:19:33,920] Starting new video recorder writing to /tmp/openaigym.video.0.27601.video000245.mp4\n"
     ]
    },
    {
     "name": "stdout",
     "output_type": "stream",
     "text": [
      "episode: 244/1000, score: 27, e: 0.3\n"
     ]
    },
    {
     "name": "stderr",
     "output_type": "stream",
     "text": [
      "[2018-05-09 10:19:34,521] Starting new video recorder writing to /tmp/openaigym.video.0.27601.video000246.mp4\n"
     ]
    },
    {
     "name": "stdout",
     "output_type": "stream",
     "text": [
      "episode: 245/1000, score: 25, e: 0.3\n"
     ]
    },
    {
     "name": "stderr",
     "output_type": "stream",
     "text": [
      "[2018-05-09 10:19:35,172] Starting new video recorder writing to /tmp/openaigym.video.0.27601.video000247.mp4\n"
     ]
    },
    {
     "name": "stdout",
     "output_type": "stream",
     "text": [
      "episode: 246/1000, score: 29, e: 0.29\n"
     ]
    },
    {
     "name": "stderr",
     "output_type": "stream",
     "text": [
      "[2018-05-09 10:19:36,349] Starting new video recorder writing to /tmp/openaigym.video.0.27601.video000248.mp4\n"
     ]
    },
    {
     "name": "stdout",
     "output_type": "stream",
     "text": [
      "episode: 247/1000, score: 61, e: 0.29\n"
     ]
    },
    {
     "name": "stderr",
     "output_type": "stream",
     "text": [
      "[2018-05-09 10:19:37,262] Starting new video recorder writing to /tmp/openaigym.video.0.27601.video000249.mp4\n"
     ]
    },
    {
     "name": "stdout",
     "output_type": "stream",
     "text": [
      "episode: 248/1000, score: 45, e: 0.29\n"
     ]
    },
    {
     "name": "stderr",
     "output_type": "stream",
     "text": [
      "[2018-05-09 10:19:37,996] Starting new video recorder writing to /tmp/openaigym.video.0.27601.video000250.mp4\n"
     ]
    },
    {
     "name": "stdout",
     "output_type": "stream",
     "text": [
      "episode: 249/1000, score: 32, e: 0.29\n"
     ]
    },
    {
     "name": "stderr",
     "output_type": "stream",
     "text": [
      "[2018-05-09 10:19:38,883] Starting new video recorder writing to /tmp/openaigym.video.0.27601.video000251.mp4\n"
     ]
    },
    {
     "name": "stdout",
     "output_type": "stream",
     "text": [
      "episode: 250/1000, score: 43, e: 0.29\n"
     ]
    },
    {
     "name": "stderr",
     "output_type": "stream",
     "text": [
      "[2018-05-09 10:19:39,895] Starting new video recorder writing to /tmp/openaigym.video.0.27601.video000252.mp4\n"
     ]
    },
    {
     "name": "stdout",
     "output_type": "stream",
     "text": [
      "episode: 251/1000, score: 51, e: 0.29\n"
     ]
    },
    {
     "name": "stderr",
     "output_type": "stream",
     "text": [
      "[2018-05-09 10:19:40,448] Starting new video recorder writing to /tmp/openaigym.video.0.27601.video000253.mp4\n"
     ]
    },
    {
     "name": "stdout",
     "output_type": "stream",
     "text": [
      "episode: 252/1000, score: 23, e: 0.29\n"
     ]
    },
    {
     "name": "stderr",
     "output_type": "stream",
     "text": [
      "[2018-05-09 10:19:41,156] Starting new video recorder writing to /tmp/openaigym.video.0.27601.video000254.mp4\n"
     ]
    },
    {
     "name": "stdout",
     "output_type": "stream",
     "text": [
      "episode: 253/1000, score: 32, e: 0.28\n"
     ]
    },
    {
     "name": "stderr",
     "output_type": "stream",
     "text": [
      "[2018-05-09 10:19:41,835] Starting new video recorder writing to /tmp/openaigym.video.0.27601.video000255.mp4\n"
     ]
    },
    {
     "name": "stdout",
     "output_type": "stream",
     "text": [
      "episode: 254/1000, score: 31, e: 0.28\n"
     ]
    },
    {
     "name": "stderr",
     "output_type": "stream",
     "text": [
      "[2018-05-09 10:19:42,906] Starting new video recorder writing to /tmp/openaigym.video.0.27601.video000256.mp4\n"
     ]
    },
    {
     "name": "stdout",
     "output_type": "stream",
     "text": [
      "episode: 255/1000, score: 48, e: 0.28\n"
     ]
    },
    {
     "name": "stderr",
     "output_type": "stream",
     "text": [
      "[2018-05-09 10:19:44,127] Starting new video recorder writing to /tmp/openaigym.video.0.27601.video000257.mp4\n"
     ]
    },
    {
     "name": "stdout",
     "output_type": "stream",
     "text": [
      "episode: 256/1000, score: 78, e: 0.28\n"
     ]
    },
    {
     "name": "stderr",
     "output_type": "stream",
     "text": [
      "[2018-05-09 10:19:45,020] Starting new video recorder writing to /tmp/openaigym.video.0.27601.video000258.mp4\n"
     ]
    },
    {
     "name": "stdout",
     "output_type": "stream",
     "text": [
      "episode: 257/1000, score: 62, e: 0.28\n"
     ]
    },
    {
     "name": "stderr",
     "output_type": "stream",
     "text": [
      "[2018-05-09 10:19:45,672] Starting new video recorder writing to /tmp/openaigym.video.0.27601.video000259.mp4\n"
     ]
    },
    {
     "name": "stdout",
     "output_type": "stream",
     "text": [
      "episode: 258/1000, score: 36, e: 0.28\n"
     ]
    },
    {
     "name": "stderr",
     "output_type": "stream",
     "text": [
      "[2018-05-09 10:19:46,523] Starting new video recorder writing to /tmp/openaigym.video.0.27601.video000260.mp4\n"
     ]
    },
    {
     "name": "stdout",
     "output_type": "stream",
     "text": [
      "episode: 259/1000, score: 63, e: 0.28\n"
     ]
    },
    {
     "name": "stderr",
     "output_type": "stream",
     "text": [
      "[2018-05-09 10:19:47,304] Starting new video recorder writing to /tmp/openaigym.video.0.27601.video000261.mp4\n"
     ]
    },
    {
     "name": "stdout",
     "output_type": "stream",
     "text": [
      "episode: 260/1000, score: 45, e: 0.27\n"
     ]
    },
    {
     "name": "stderr",
     "output_type": "stream",
     "text": [
      "[2018-05-09 10:19:47,681] Starting new video recorder writing to /tmp/openaigym.video.0.27601.video000262.mp4\n"
     ]
    },
    {
     "name": "stdout",
     "output_type": "stream",
     "text": [
      "episode: 261/1000, score: 19, e: 0.27\n"
     ]
    },
    {
     "name": "stderr",
     "output_type": "stream",
     "text": [
      "[2018-05-09 10:19:48,879] Starting new video recorder writing to /tmp/openaigym.video.0.27601.video000263.mp4\n"
     ]
    },
    {
     "name": "stdout",
     "output_type": "stream",
     "text": [
      "episode: 262/1000, score: 94, e: 0.27\n"
     ]
    },
    {
     "name": "stderr",
     "output_type": "stream",
     "text": [
      "[2018-05-09 10:19:49,656] Starting new video recorder writing to /tmp/openaigym.video.0.27601.video000264.mp4\n"
     ]
    },
    {
     "name": "stdout",
     "output_type": "stream",
     "text": [
      "episode: 263/1000, score: 47, e: 0.27\n"
     ]
    },
    {
     "name": "stderr",
     "output_type": "stream",
     "text": [
      "[2018-05-09 10:19:50,328] Starting new video recorder writing to /tmp/openaigym.video.0.27601.video000265.mp4\n"
     ]
    },
    {
     "name": "stdout",
     "output_type": "stream",
     "text": [
      "episode: 264/1000, score: 44, e: 0.27\n"
     ]
    },
    {
     "name": "stderr",
     "output_type": "stream",
     "text": [
      "[2018-05-09 10:19:51,197] Starting new video recorder writing to /tmp/openaigym.video.0.27601.video000266.mp4\n"
     ]
    },
    {
     "name": "stdout",
     "output_type": "stream",
     "text": [
      "episode: 265/1000, score: 58, e: 0.27\n"
     ]
    },
    {
     "name": "stderr",
     "output_type": "stream",
     "text": [
      "[2018-05-09 10:19:52,092] Starting new video recorder writing to /tmp/openaigym.video.0.27601.video000267.mp4\n"
     ]
    },
    {
     "name": "stdout",
     "output_type": "stream",
     "text": [
      "episode: 266/1000, score: 63, e: 0.27\n"
     ]
    },
    {
     "name": "stderr",
     "output_type": "stream",
     "text": [
      "[2018-05-09 10:19:52,863] Starting new video recorder writing to /tmp/openaigym.video.0.27601.video000268.mp4\n"
     ]
    },
    {
     "name": "stdout",
     "output_type": "stream",
     "text": [
      "episode: 267/1000, score: 48, e: 0.26\n"
     ]
    },
    {
     "name": "stderr",
     "output_type": "stream",
     "text": [
      "[2018-05-09 10:19:53,502] Starting new video recorder writing to /tmp/openaigym.video.0.27601.video000269.mp4\n"
     ]
    },
    {
     "name": "stdout",
     "output_type": "stream",
     "text": [
      "episode: 268/1000, score: 46, e: 0.26\n"
     ]
    },
    {
     "name": "stderr",
     "output_type": "stream",
     "text": [
      "[2018-05-09 10:19:54,003] Starting new video recorder writing to /tmp/openaigym.video.0.27601.video000270.mp4\n"
     ]
    },
    {
     "name": "stdout",
     "output_type": "stream",
     "text": [
      "episode: 269/1000, score: 30, e: 0.26\n"
     ]
    },
    {
     "name": "stderr",
     "output_type": "stream",
     "text": [
      "[2018-05-09 10:19:54,593] Starting new video recorder writing to /tmp/openaigym.video.0.27601.video000271.mp4\n"
     ]
    },
    {
     "name": "stdout",
     "output_type": "stream",
     "text": [
      "episode: 270/1000, score: 35, e: 0.26\n"
     ]
    },
    {
     "name": "stderr",
     "output_type": "stream",
     "text": [
      "[2018-05-09 10:19:55,244] Starting new video recorder writing to /tmp/openaigym.video.0.27601.video000272.mp4\n"
     ]
    },
    {
     "name": "stdout",
     "output_type": "stream",
     "text": [
      "episode: 271/1000, score: 44, e: 0.26\n"
     ]
    },
    {
     "name": "stderr",
     "output_type": "stream",
     "text": [
      "[2018-05-09 10:19:56,320] Starting new video recorder writing to /tmp/openaigym.video.0.27601.video000273.mp4\n"
     ]
    },
    {
     "name": "stdout",
     "output_type": "stream",
     "text": [
      "episode: 272/1000, score: 39, e: 0.26\n"
     ]
    },
    {
     "name": "stderr",
     "output_type": "stream",
     "text": [
      "[2018-05-09 10:19:57,548] Starting new video recorder writing to /tmp/openaigym.video.0.27601.video000274.mp4\n"
     ]
    },
    {
     "name": "stdout",
     "output_type": "stream",
     "text": [
      "episode: 273/1000, score: 62, e: 0.26\n"
     ]
    },
    {
     "name": "stderr",
     "output_type": "stream",
     "text": [
      "[2018-05-09 10:19:58,681] Starting new video recorder writing to /tmp/openaigym.video.0.27601.video000275.mp4\n"
     ]
    },
    {
     "name": "stdout",
     "output_type": "stream",
     "text": [
      "episode: 274/1000, score: 58, e: 0.26\n"
     ]
    },
    {
     "name": "stderr",
     "output_type": "stream",
     "text": [
      "[2018-05-09 10:19:59,777] Starting new video recorder writing to /tmp/openaigym.video.0.27601.video000276.mp4\n"
     ]
    },
    {
     "name": "stdout",
     "output_type": "stream",
     "text": [
      "episode: 275/1000, score: 56, e: 0.25\n"
     ]
    },
    {
     "name": "stderr",
     "output_type": "stream",
     "text": [
      "[2018-05-09 10:20:00,836] Starting new video recorder writing to /tmp/openaigym.video.0.27601.video000277.mp4\n"
     ]
    },
    {
     "name": "stdout",
     "output_type": "stream",
     "text": [
      "episode: 276/1000, score: 53, e: 0.25\n"
     ]
    },
    {
     "name": "stderr",
     "output_type": "stream",
     "text": [
      "[2018-05-09 10:20:01,864] Starting new video recorder writing to /tmp/openaigym.video.0.27601.video000278.mp4\n"
     ]
    },
    {
     "name": "stdout",
     "output_type": "stream",
     "text": [
      "episode: 277/1000, score: 52, e: 0.25\n"
     ]
    },
    {
     "name": "stderr",
     "output_type": "stream",
     "text": [
      "[2018-05-09 10:20:03,235] Starting new video recorder writing to /tmp/openaigym.video.0.27601.video000279.mp4\n"
     ]
    },
    {
     "name": "stdout",
     "output_type": "stream",
     "text": [
      "episode: 278/1000, score: 72, e: 0.25\n"
     ]
    },
    {
     "name": "stderr",
     "output_type": "stream",
     "text": [
      "[2018-05-09 10:20:04,416] Starting new video recorder writing to /tmp/openaigym.video.0.27601.video000280.mp4\n"
     ]
    },
    {
     "name": "stdout",
     "output_type": "stream",
     "text": [
      "episode: 279/1000, score: 61, e: 0.25\n"
     ]
    },
    {
     "name": "stderr",
     "output_type": "stream",
     "text": [
      "[2018-05-09 10:20:05,691] Starting new video recorder writing to /tmp/openaigym.video.0.27601.video000281.mp4\n"
     ]
    },
    {
     "name": "stdout",
     "output_type": "stream",
     "text": [
      "episode: 280/1000, score: 66, e: 0.25\n"
     ]
    },
    {
     "name": "stderr",
     "output_type": "stream",
     "text": [
      "[2018-05-09 10:20:07,381] Starting new video recorder writing to /tmp/openaigym.video.0.27601.video000282.mp4\n"
     ]
    },
    {
     "name": "stdout",
     "output_type": "stream",
     "text": [
      "episode: 281/1000, score: 92, e: 0.25\n"
     ]
    },
    {
     "name": "stderr",
     "output_type": "stream",
     "text": [
      "[2018-05-09 10:20:08,788] Starting new video recorder writing to /tmp/openaigym.video.0.27601.video000283.mp4\n"
     ]
    },
    {
     "name": "stdout",
     "output_type": "stream",
     "text": [
      "episode: 282/1000, score: 74, e: 0.25\n"
     ]
    },
    {
     "name": "stderr",
     "output_type": "stream",
     "text": [
      "[2018-05-09 10:20:09,877] Starting new video recorder writing to /tmp/openaigym.video.0.27601.video000284.mp4\n"
     ]
    },
    {
     "name": "stdout",
     "output_type": "stream",
     "text": [
      "episode: 283/1000, score: 55, e: 0.24\n"
     ]
    },
    {
     "name": "stderr",
     "output_type": "stream",
     "text": [
      "[2018-05-09 10:20:12,295] Starting new video recorder writing to /tmp/openaigym.video.0.27601.video000285.mp4\n"
     ]
    },
    {
     "name": "stdout",
     "output_type": "stream",
     "text": [
      "episode: 284/1000, score: 170, e: 0.24\n"
     ]
    },
    {
     "name": "stderr",
     "output_type": "stream",
     "text": [
      "[2018-05-09 10:20:13,574] Starting new video recorder writing to /tmp/openaigym.video.0.27601.video000286.mp4\n"
     ]
    },
    {
     "name": "stdout",
     "output_type": "stream",
     "text": [
      "episode: 285/1000, score: 98, e: 0.24\n"
     ]
    },
    {
     "name": "stderr",
     "output_type": "stream",
     "text": [
      "[2018-05-09 10:20:14,415] Starting new video recorder writing to /tmp/openaigym.video.0.27601.video000287.mp4\n"
     ]
    },
    {
     "name": "stdout",
     "output_type": "stream",
     "text": [
      "episode: 286/1000, score: 56, e: 0.24\n"
     ]
    },
    {
     "name": "stderr",
     "output_type": "stream",
     "text": [
      "[2018-05-09 10:20:15,053] Starting new video recorder writing to /tmp/openaigym.video.0.27601.video000288.mp4\n"
     ]
    },
    {
     "name": "stdout",
     "output_type": "stream",
     "text": [
      "episode: 287/1000, score: 28, e: 0.24\n"
     ]
    },
    {
     "name": "stderr",
     "output_type": "stream",
     "text": [
      "[2018-05-09 10:20:16,025] Starting new video recorder writing to /tmp/openaigym.video.0.27601.video000289.mp4\n"
     ]
    },
    {
     "name": "stdout",
     "output_type": "stream",
     "text": [
      "episode: 288/1000, score: 73, e: 0.24\n"
     ]
    },
    {
     "name": "stderr",
     "output_type": "stream",
     "text": [
      "[2018-05-09 10:20:16,557] Starting new video recorder writing to /tmp/openaigym.video.0.27601.video000290.mp4\n"
     ]
    },
    {
     "name": "stdout",
     "output_type": "stream",
     "text": [
      "episode: 289/1000, score: 35, e: 0.24\n"
     ]
    },
    {
     "name": "stderr",
     "output_type": "stream",
     "text": [
      "[2018-05-09 10:20:17,562] Starting new video recorder writing to /tmp/openaigym.video.0.27601.video000291.mp4\n"
     ]
    },
    {
     "name": "stdout",
     "output_type": "stream",
     "text": [
      "episode: 290/1000, score: 69, e: 0.24\n"
     ]
    },
    {
     "name": "stderr",
     "output_type": "stream",
     "text": [
      "[2018-05-09 10:20:18,832] Starting new video recorder writing to /tmp/openaigym.video.0.27601.video000292.mp4\n"
     ]
    },
    {
     "name": "stdout",
     "output_type": "stream",
     "text": [
      "episode: 291/1000, score: 94, e: 0.23\n"
     ]
    },
    {
     "name": "stderr",
     "output_type": "stream",
     "text": [
      "[2018-05-09 10:20:19,946] Starting new video recorder writing to /tmp/openaigym.video.0.27601.video000293.mp4\n"
     ]
    },
    {
     "name": "stdout",
     "output_type": "stream",
     "text": [
      "episode: 292/1000, score: 39, e: 0.23\n"
     ]
    },
    {
     "name": "stderr",
     "output_type": "stream",
     "text": [
      "[2018-05-09 10:20:21,160] Starting new video recorder writing to /tmp/openaigym.video.0.27601.video000294.mp4\n"
     ]
    },
    {
     "name": "stdout",
     "output_type": "stream",
     "text": [
      "episode: 293/1000, score: 63, e: 0.23\n"
     ]
    },
    {
     "name": "stderr",
     "output_type": "stream",
     "text": [
      "[2018-05-09 10:20:21,933] Starting new video recorder writing to /tmp/openaigym.video.0.27601.video000295.mp4\n"
     ]
    },
    {
     "name": "stdout",
     "output_type": "stream",
     "text": [
      "episode: 294/1000, score: 36, e: 0.23\n"
     ]
    },
    {
     "name": "stderr",
     "output_type": "stream",
     "text": [
      "[2018-05-09 10:20:23,165] Starting new video recorder writing to /tmp/openaigym.video.0.27601.video000296.mp4\n"
     ]
    },
    {
     "name": "stdout",
     "output_type": "stream",
     "text": [
      "episode: 295/1000, score: 65, e: 0.23\n"
     ]
    },
    {
     "name": "stderr",
     "output_type": "stream",
     "text": [
      "[2018-05-09 10:20:24,187] Starting new video recorder writing to /tmp/openaigym.video.0.27601.video000297.mp4\n"
     ]
    },
    {
     "name": "stdout",
     "output_type": "stream",
     "text": [
      "episode: 296/1000, score: 52, e: 0.23\n"
     ]
    },
    {
     "name": "stderr",
     "output_type": "stream",
     "text": [
      "[2018-05-09 10:20:25,702] Starting new video recorder writing to /tmp/openaigym.video.0.27601.video000298.mp4\n"
     ]
    },
    {
     "name": "stdout",
     "output_type": "stream",
     "text": [
      "episode: 297/1000, score: 79, e: 0.23\n"
     ]
    },
    {
     "name": "stderr",
     "output_type": "stream",
     "text": [
      "[2018-05-09 10:20:27,521] Starting new video recorder writing to /tmp/openaigym.video.0.27601.video000299.mp4\n"
     ]
    },
    {
     "name": "stdout",
     "output_type": "stream",
     "text": [
      "episode: 298/1000, score: 99, e: 0.23\n"
     ]
    },
    {
     "name": "stderr",
     "output_type": "stream",
     "text": [
      "[2018-05-09 10:20:28,920] Starting new video recorder writing to /tmp/openaigym.video.0.27601.video000300.mp4\n"
     ]
    },
    {
     "name": "stdout",
     "output_type": "stream",
     "text": [
      "episode: 299/1000, score: 86, e: 0.23\n"
     ]
    },
    {
     "name": "stderr",
     "output_type": "stream",
     "text": [
      "[2018-05-09 10:20:29,716] Starting new video recorder writing to /tmp/openaigym.video.0.27601.video000301.mp4\n"
     ]
    },
    {
     "name": "stdout",
     "output_type": "stream",
     "text": [
      "episode: 300/1000, score: 52, e: 0.22\n"
     ]
    },
    {
     "name": "stderr",
     "output_type": "stream",
     "text": [
      "[2018-05-09 10:20:30,691] Starting new video recorder writing to /tmp/openaigym.video.0.27601.video000302.mp4\n"
     ]
    },
    {
     "name": "stdout",
     "output_type": "stream",
     "text": [
      "episode: 301/1000, score: 63, e: 0.22\n"
     ]
    },
    {
     "name": "stderr",
     "output_type": "stream",
     "text": [
      "[2018-05-09 10:20:31,669] Starting new video recorder writing to /tmp/openaigym.video.0.27601.video000303.mp4\n"
     ]
    },
    {
     "name": "stdout",
     "output_type": "stream",
     "text": [
      "episode: 302/1000, score: 67, e: 0.22\n"
     ]
    },
    {
     "name": "stderr",
     "output_type": "stream",
     "text": [
      "[2018-05-09 10:20:32,877] Starting new video recorder writing to /tmp/openaigym.video.0.27601.video000304.mp4\n"
     ]
    },
    {
     "name": "stdout",
     "output_type": "stream",
     "text": [
      "episode: 303/1000, score: 98, e: 0.22\n"
     ]
    },
    {
     "name": "stderr",
     "output_type": "stream",
     "text": [
      "[2018-05-09 10:20:34,473] Starting new video recorder writing to /tmp/openaigym.video.0.27601.video000305.mp4\n"
     ]
    },
    {
     "name": "stdout",
     "output_type": "stream",
     "text": [
      "episode: 304/1000, score: 118, e: 0.22\n"
     ]
    },
    {
     "name": "stderr",
     "output_type": "stream",
     "text": [
      "[2018-05-09 10:20:35,391] Starting new video recorder writing to /tmp/openaigym.video.0.27601.video000306.mp4\n"
     ]
    },
    {
     "name": "stdout",
     "output_type": "stream",
     "text": [
      "episode: 305/1000, score: 64, e: 0.22\n"
     ]
    },
    {
     "name": "stderr",
     "output_type": "stream",
     "text": [
      "[2018-05-09 10:20:36,162] Starting new video recorder writing to /tmp/openaigym.video.0.27601.video000307.mp4\n"
     ]
    },
    {
     "name": "stdout",
     "output_type": "stream",
     "text": [
      "episode: 306/1000, score: 54, e: 0.22\n"
     ]
    },
    {
     "name": "stderr",
     "output_type": "stream",
     "text": [
      "[2018-05-09 10:20:37,166] Starting new video recorder writing to /tmp/openaigym.video.0.27601.video000308.mp4\n"
     ]
    },
    {
     "name": "stdout",
     "output_type": "stream",
     "text": [
      "episode: 307/1000, score: 72, e: 0.22\n",
      "episode: 308/1000, score: 79, e: 0.22\n"
     ]
    },
    {
     "name": "stderr",
     "output_type": "stream",
     "text": [
      "[2018-05-09 10:20:38,280] Starting new video recorder writing to /tmp/openaigym.video.0.27601.video000309.mp4\n",
      "[2018-05-09 10:20:39,301] Starting new video recorder writing to /tmp/openaigym.video.0.27601.video000310.mp4\n"
     ]
    },
    {
     "name": "stdout",
     "output_type": "stream",
     "text": [
      "episode: 309/1000, score: 77, e: 0.21\n"
     ]
    },
    {
     "name": "stderr",
     "output_type": "stream",
     "text": [
      "[2018-05-09 10:20:40,481] Starting new video recorder writing to /tmp/openaigym.video.0.27601.video000311.mp4\n"
     ]
    },
    {
     "name": "stdout",
     "output_type": "stream",
     "text": [
      "episode: 310/1000, score: 68, e: 0.21\n",
      "episode: 311/1000, score: 72, e: 0.21\n"
     ]
    },
    {
     "name": "stderr",
     "output_type": "stream",
     "text": [
      "[2018-05-09 10:20:41,729] Starting new video recorder writing to /tmp/openaigym.video.0.27601.video000312.mp4\n",
      "[2018-05-09 10:20:43,239] Starting new video recorder writing to /tmp/openaigym.video.0.27601.video000313.mp4\n"
     ]
    },
    {
     "name": "stdout",
     "output_type": "stream",
     "text": [
      "episode: 312/1000, score: 117, e: 0.21\n"
     ]
    },
    {
     "name": "stderr",
     "output_type": "stream",
     "text": [
      "[2018-05-09 10:20:44,872] Starting new video recorder writing to /tmp/openaigym.video.0.27601.video000314.mp4\n"
     ]
    },
    {
     "name": "stdout",
     "output_type": "stream",
     "text": [
      "episode: 313/1000, score: 74, e: 0.21\n"
     ]
    },
    {
     "name": "stderr",
     "output_type": "stream",
     "text": [
      "[2018-05-09 10:20:46,135] Starting new video recorder writing to /tmp/openaigym.video.0.27601.video000315.mp4\n"
     ]
    },
    {
     "name": "stdout",
     "output_type": "stream",
     "text": [
      "episode: 314/1000, score: 66, e: 0.21\n"
     ]
    },
    {
     "name": "stderr",
     "output_type": "stream",
     "text": [
      "[2018-05-09 10:20:48,021] Starting new video recorder writing to /tmp/openaigym.video.0.27601.video000316.mp4\n"
     ]
    },
    {
     "name": "stdout",
     "output_type": "stream",
     "text": [
      "episode: 315/1000, score: 103, e: 0.21\n"
     ]
    },
    {
     "name": "stderr",
     "output_type": "stream",
     "text": [
      "[2018-05-09 10:20:49,714] Starting new video recorder writing to /tmp/openaigym.video.0.27601.video000317.mp4\n"
     ]
    },
    {
     "name": "stdout",
     "output_type": "stream",
     "text": [
      "episode: 316/1000, score: 91, e: 0.21\n"
     ]
    },
    {
     "name": "stderr",
     "output_type": "stream",
     "text": [
      "[2018-05-09 10:20:51,238] Starting new video recorder writing to /tmp/openaigym.video.0.27601.video000318.mp4\n"
     ]
    },
    {
     "name": "stdout",
     "output_type": "stream",
     "text": [
      "episode: 317/1000, score: 81, e: 0.21\n",
      "episode: 318/1000, score: 59, e: 0.21\n"
     ]
    },
    {
     "name": "stderr",
     "output_type": "stream",
     "text": [
      "[2018-05-09 10:20:52,578] Starting new video recorder writing to /tmp/openaigym.video.0.27601.video000319.mp4\n",
      "[2018-05-09 10:20:53,811] Starting new video recorder writing to /tmp/openaigym.video.0.27601.video000320.mp4\n"
     ]
    },
    {
     "name": "stdout",
     "output_type": "stream",
     "text": [
      "episode: 319/1000, score: 63, e: 0.2\n"
     ]
    },
    {
     "name": "stderr",
     "output_type": "stream",
     "text": [
      "[2018-05-09 10:20:54,920] Starting new video recorder writing to /tmp/openaigym.video.0.27601.video000321.mp4\n"
     ]
    },
    {
     "name": "stdout",
     "output_type": "stream",
     "text": [
      "episode: 320/1000, score: 57, e: 0.2\n"
     ]
    },
    {
     "name": "stderr",
     "output_type": "stream",
     "text": [
      "[2018-05-09 10:20:56,485] Starting new video recorder writing to /tmp/openaigym.video.0.27601.video000322.mp4\n"
     ]
    },
    {
     "name": "stdout",
     "output_type": "stream",
     "text": [
      "episode: 321/1000, score: 84, e: 0.2\n"
     ]
    },
    {
     "name": "stderr",
     "output_type": "stream",
     "text": [
      "[2018-05-09 10:20:57,658] Starting new video recorder writing to /tmp/openaigym.video.0.27601.video000323.mp4\n"
     ]
    },
    {
     "name": "stdout",
     "output_type": "stream",
     "text": [
      "episode: 322/1000, score: 60, e: 0.2\n"
     ]
    },
    {
     "name": "stderr",
     "output_type": "stream",
     "text": [
      "[2018-05-09 10:20:59,453] Starting new video recorder writing to /tmp/openaigym.video.0.27601.video000324.mp4\n"
     ]
    },
    {
     "name": "stdout",
     "output_type": "stream",
     "text": [
      "episode: 323/1000, score: 98, e: 0.2\n"
     ]
    },
    {
     "name": "stderr",
     "output_type": "stream",
     "text": [
      "[2018-05-09 10:21:01,480] Starting new video recorder writing to /tmp/openaigym.video.0.27601.video000325.mp4\n"
     ]
    },
    {
     "name": "stdout",
     "output_type": "stream",
     "text": [
      "episode: 324/1000, score: 112, e: 0.2\n"
     ]
    },
    {
     "name": "stderr",
     "output_type": "stream",
     "text": [
      "[2018-05-09 10:21:02,786] Starting new video recorder writing to /tmp/openaigym.video.0.27601.video000326.mp4\n"
     ]
    },
    {
     "name": "stdout",
     "output_type": "stream",
     "text": [
      "episode: 325/1000, score: 67, e: 0.2\n"
     ]
    },
    {
     "name": "stderr",
     "output_type": "stream",
     "text": [
      "[2018-05-09 10:21:04,899] Starting new video recorder writing to /tmp/openaigym.video.0.27601.video000327.mp4\n"
     ]
    },
    {
     "name": "stdout",
     "output_type": "stream",
     "text": [
      "episode: 326/1000, score: 110, e: 0.2\n"
     ]
    },
    {
     "name": "stderr",
     "output_type": "stream",
     "text": [
      "[2018-05-09 10:21:06,951] Starting new video recorder writing to /tmp/openaigym.video.0.27601.video000328.mp4\n"
     ]
    },
    {
     "name": "stdout",
     "output_type": "stream",
     "text": [
      "episode: 327/1000, score: 110, e: 0.2\n",
      "episode: 328/1000, score: 125, e: 0.2\n"
     ]
    },
    {
     "name": "stderr",
     "output_type": "stream",
     "text": [
      "[2018-05-09 10:21:08,752] Starting new video recorder writing to /tmp/openaigym.video.0.27601.video000329.mp4\n",
      "[2018-05-09 10:21:10,302] Starting new video recorder writing to /tmp/openaigym.video.0.27601.video000330.mp4\n"
     ]
    },
    {
     "name": "stdout",
     "output_type": "stream",
     "text": [
      "episode: 329/1000, score: 123, e: 0.19\n"
     ]
    },
    {
     "name": "stderr",
     "output_type": "stream",
     "text": [
      "[2018-05-09 10:21:11,485] Starting new video recorder writing to /tmp/openaigym.video.0.27601.video000331.mp4\n"
     ]
    },
    {
     "name": "stdout",
     "output_type": "stream",
     "text": [
      "episode: 330/1000, score: 89, e: 0.19\n"
     ]
    },
    {
     "name": "stderr",
     "output_type": "stream",
     "text": [
      "[2018-05-09 10:21:12,975] Starting new video recorder writing to /tmp/openaigym.video.0.27601.video000332.mp4\n"
     ]
    },
    {
     "name": "stdout",
     "output_type": "stream",
     "text": [
      "episode: 331/1000, score: 106, e: 0.19\n"
     ]
    },
    {
     "name": "stderr",
     "output_type": "stream",
     "text": [
      "[2018-05-09 10:21:14,589] Starting new video recorder writing to /tmp/openaigym.video.0.27601.video000333.mp4\n"
     ]
    },
    {
     "name": "stdout",
     "output_type": "stream",
     "text": [
      "episode: 332/1000, score: 120, e: 0.19\n"
     ]
    },
    {
     "name": "stderr",
     "output_type": "stream",
     "text": [
      "[2018-05-09 10:21:16,253] Starting new video recorder writing to /tmp/openaigym.video.0.27601.video000334.mp4\n"
     ]
    },
    {
     "name": "stdout",
     "output_type": "stream",
     "text": [
      "episode: 333/1000, score: 83, e: 0.19\n"
     ]
    },
    {
     "name": "stderr",
     "output_type": "stream",
     "text": [
      "[2018-05-09 10:21:17,798] Starting new video recorder writing to /tmp/openaigym.video.0.27601.video000335.mp4\n"
     ]
    },
    {
     "name": "stdout",
     "output_type": "stream",
     "text": [
      "episode: 334/1000, score: 82, e: 0.19\n"
     ]
    },
    {
     "name": "stderr",
     "output_type": "stream",
     "text": [
      "[2018-05-09 10:21:19,140] Starting new video recorder writing to /tmp/openaigym.video.0.27601.video000336.mp4\n"
     ]
    },
    {
     "name": "stdout",
     "output_type": "stream",
     "text": [
      "episode: 335/1000, score: 70, e: 0.19\n"
     ]
    },
    {
     "name": "stderr",
     "output_type": "stream",
     "text": [
      "[2018-05-09 10:21:21,483] Starting new video recorder writing to /tmp/openaigym.video.0.27601.video000337.mp4\n"
     ]
    },
    {
     "name": "stdout",
     "output_type": "stream",
     "text": [
      "episode: 336/1000, score: 131, e: 0.19\n"
     ]
    },
    {
     "name": "stderr",
     "output_type": "stream",
     "text": [
      "[2018-05-09 10:21:22,874] Starting new video recorder writing to /tmp/openaigym.video.0.27601.video000338.mp4\n"
     ]
    },
    {
     "name": "stdout",
     "output_type": "stream",
     "text": [
      "episode: 337/1000, score: 73, e: 0.19\n"
     ]
    },
    {
     "name": "stderr",
     "output_type": "stream",
     "text": [
      "[2018-05-09 10:21:25,200] Starting new video recorder writing to /tmp/openaigym.video.0.27601.video000339.mp4\n"
     ]
    },
    {
     "name": "stdout",
     "output_type": "stream",
     "text": [
      "episode: 338/1000, score: 129, e: 0.19\n"
     ]
    },
    {
     "name": "stderr",
     "output_type": "stream",
     "text": [
      "[2018-05-09 10:21:26,666] Starting new video recorder writing to /tmp/openaigym.video.0.27601.video000340.mp4\n"
     ]
    },
    {
     "name": "stdout",
     "output_type": "stream",
     "text": [
      "episode: 339/1000, score: 79, e: 0.18\n"
     ]
    },
    {
     "name": "stderr",
     "output_type": "stream",
     "text": [
      "[2018-05-09 10:21:28,710] Starting new video recorder writing to /tmp/openaigym.video.0.27601.video000341.mp4\n"
     ]
    },
    {
     "name": "stdout",
     "output_type": "stream",
     "text": [
      "episode: 340/1000, score: 112, e: 0.18\n"
     ]
    },
    {
     "name": "stderr",
     "output_type": "stream",
     "text": [
      "[2018-05-09 10:21:30,360] Starting new video recorder writing to /tmp/openaigym.video.0.27601.video000342.mp4\n"
     ]
    },
    {
     "name": "stdout",
     "output_type": "stream",
     "text": [
      "episode: 341/1000, score: 89, e: 0.18\n"
     ]
    },
    {
     "name": "stderr",
     "output_type": "stream",
     "text": [
      "[2018-05-09 10:21:31,931] Starting new video recorder writing to /tmp/openaigym.video.0.27601.video000343.mp4\n"
     ]
    },
    {
     "name": "stdout",
     "output_type": "stream",
     "text": [
      "episode: 342/1000, score: 83, e: 0.18\n"
     ]
    },
    {
     "name": "stderr",
     "output_type": "stream",
     "text": [
      "[2018-05-09 10:21:34,105] Starting new video recorder writing to /tmp/openaigym.video.0.27601.video000344.mp4\n"
     ]
    },
    {
     "name": "stdout",
     "output_type": "stream",
     "text": [
      "episode: 343/1000, score: 107, e: 0.18\n"
     ]
    },
    {
     "name": "stderr",
     "output_type": "stream",
     "text": [
      "[2018-05-09 10:21:35,817] Starting new video recorder writing to /tmp/openaigym.video.0.27601.video000345.mp4\n"
     ]
    },
    {
     "name": "stdout",
     "output_type": "stream",
     "text": [
      "episode: 344/1000, score: 93, e: 0.18\n"
     ]
    },
    {
     "name": "stderr",
     "output_type": "stream",
     "text": [
      "[2018-05-09 10:21:37,251] Starting new video recorder writing to /tmp/openaigym.video.0.27601.video000346.mp4\n"
     ]
    },
    {
     "name": "stdout",
     "output_type": "stream",
     "text": [
      "episode: 345/1000, score: 76, e: 0.18\n"
     ]
    },
    {
     "name": "stderr",
     "output_type": "stream",
     "text": [
      "[2018-05-09 10:21:38,556] Starting new video recorder writing to /tmp/openaigym.video.0.27601.video000347.mp4\n"
     ]
    },
    {
     "name": "stdout",
     "output_type": "stream",
     "text": [
      "episode: 346/1000, score: 68, e: 0.18\n"
     ]
    },
    {
     "name": "stderr",
     "output_type": "stream",
     "text": [
      "[2018-05-09 10:21:40,202] Starting new video recorder writing to /tmp/openaigym.video.0.27601.video000348.mp4\n"
     ]
    },
    {
     "name": "stdout",
     "output_type": "stream",
     "text": [
      "episode: 347/1000, score: 89, e: 0.18\n"
     ]
    },
    {
     "name": "stderr",
     "output_type": "stream",
     "text": [
      "[2018-05-09 10:21:42,077] Starting new video recorder writing to /tmp/openaigym.video.0.27601.video000349.mp4\n"
     ]
    },
    {
     "name": "stdout",
     "output_type": "stream",
     "text": [
      "episode: 348/1000, score: 102, e: 0.18\n"
     ]
    },
    {
     "name": "stderr",
     "output_type": "stream",
     "text": [
      "[2018-05-09 10:21:43,322] Starting new video recorder writing to /tmp/openaigym.video.0.27601.video000350.mp4\n"
     ]
    },
    {
     "name": "stdout",
     "output_type": "stream",
     "text": [
      "episode: 349/1000, score: 64, e: 0.18\n"
     ]
    },
    {
     "name": "stderr",
     "output_type": "stream",
     "text": [
      "[2018-05-09 10:21:44,818] Starting new video recorder writing to /tmp/openaigym.video.0.27601.video000351.mp4\n"
     ]
    },
    {
     "name": "stdout",
     "output_type": "stream",
     "text": [
      "episode: 350/1000, score: 80, e: 0.17\n"
     ]
    },
    {
     "name": "stderr",
     "output_type": "stream",
     "text": [
      "[2018-05-09 10:21:47,655] Starting new video recorder writing to /tmp/openaigym.video.0.27601.video000352.mp4\n"
     ]
    },
    {
     "name": "stdout",
     "output_type": "stream",
     "text": [
      "episode: 351/1000, score: 160, e: 0.17\n"
     ]
    },
    {
     "name": "stderr",
     "output_type": "stream",
     "text": [
      "[2018-05-09 10:21:49,020] Starting new video recorder writing to /tmp/openaigym.video.0.27601.video000353.mp4\n"
     ]
    },
    {
     "name": "stdout",
     "output_type": "stream",
     "text": [
      "episode: 352/1000, score: 71, e: 0.17\n"
     ]
    },
    {
     "name": "stderr",
     "output_type": "stream",
     "text": [
      "[2018-05-09 10:21:50,171] Starting new video recorder writing to /tmp/openaigym.video.0.27601.video000354.mp4\n"
     ]
    },
    {
     "name": "stdout",
     "output_type": "stream",
     "text": [
      "episode: 353/1000, score: 59, e: 0.17\n"
     ]
    },
    {
     "name": "stderr",
     "output_type": "stream",
     "text": [
      "[2018-05-09 10:21:51,607] Starting new video recorder writing to /tmp/openaigym.video.0.27601.video000355.mp4\n"
     ]
    },
    {
     "name": "stdout",
     "output_type": "stream",
     "text": [
      "episode: 354/1000, score: 76, e: 0.17\n"
     ]
    },
    {
     "name": "stderr",
     "output_type": "stream",
     "text": [
      "[2018-05-09 10:21:54,833] Starting new video recorder writing to /tmp/openaigym.video.0.27601.video000356.mp4\n"
     ]
    },
    {
     "name": "stdout",
     "output_type": "stream",
     "text": [
      "episode: 355/1000, score: 184, e: 0.17\n"
     ]
    },
    {
     "name": "stderr",
     "output_type": "stream",
     "text": [
      "[2018-05-09 10:21:56,556] Starting new video recorder writing to /tmp/openaigym.video.0.27601.video000357.mp4\n"
     ]
    },
    {
     "name": "stdout",
     "output_type": "stream",
     "text": [
      "episode: 356/1000, score: 93, e: 0.17\n"
     ]
    },
    {
     "name": "stderr",
     "output_type": "stream",
     "text": [
      "[2018-05-09 10:21:57,486] Starting new video recorder writing to /tmp/openaigym.video.0.27601.video000358.mp4\n"
     ]
    },
    {
     "name": "stdout",
     "output_type": "stream",
     "text": [
      "episode: 357/1000, score: 46, e: 0.17\n"
     ]
    },
    {
     "name": "stderr",
     "output_type": "stream",
     "text": [
      "[2018-05-09 10:21:58,906] Starting new video recorder writing to /tmp/openaigym.video.0.27601.video000359.mp4\n"
     ]
    },
    {
     "name": "stdout",
     "output_type": "stream",
     "text": [
      "episode: 358/1000, score: 74, e: 0.17\n"
     ]
    },
    {
     "name": "stderr",
     "output_type": "stream",
     "text": [
      "[2018-05-09 10:22:00,481] Starting new video recorder writing to /tmp/openaigym.video.0.27601.video000360.mp4\n"
     ]
    },
    {
     "name": "stdout",
     "output_type": "stream",
     "text": [
      "episode: 359/1000, score: 84, e: 0.17\n"
     ]
    },
    {
     "name": "stderr",
     "output_type": "stream",
     "text": [
      "[2018-05-09 10:22:01,835] Starting new video recorder writing to /tmp/openaigym.video.0.27601.video000361.mp4\n"
     ]
    },
    {
     "name": "stdout",
     "output_type": "stream",
     "text": [
      "episode: 360/1000, score: 72, e: 0.17\n"
     ]
    },
    {
     "name": "stderr",
     "output_type": "stream",
     "text": [
      "[2018-05-09 10:22:03,948] Starting new video recorder writing to /tmp/openaigym.video.0.27601.video000362.mp4\n"
     ]
    },
    {
     "name": "stdout",
     "output_type": "stream",
     "text": [
      "episode: 361/1000, score: 101, e: 0.17\n"
     ]
    },
    {
     "name": "stderr",
     "output_type": "stream",
     "text": [
      "[2018-05-09 10:22:05,560] Starting new video recorder writing to /tmp/openaigym.video.0.27601.video000363.mp4\n"
     ]
    },
    {
     "name": "stdout",
     "output_type": "stream",
     "text": [
      "episode: 362/1000, score: 87, e: 0.16\n"
     ]
    },
    {
     "name": "stderr",
     "output_type": "stream",
     "text": [
      "[2018-05-09 10:22:07,936] Starting new video recorder writing to /tmp/openaigym.video.0.27601.video000364.mp4\n"
     ]
    },
    {
     "name": "stdout",
     "output_type": "stream",
     "text": [
      "episode: 363/1000, score: 132, e: 0.16\n"
     ]
    },
    {
     "name": "stderr",
     "output_type": "stream",
     "text": [
      "[2018-05-09 10:22:08,612] Starting new video recorder writing to /tmp/openaigym.video.0.27601.video000365.mp4\n"
     ]
    },
    {
     "name": "stdout",
     "output_type": "stream",
     "text": [
      "episode: 364/1000, score: 30, e: 0.16\n"
     ]
    },
    {
     "name": "stderr",
     "output_type": "stream",
     "text": [
      "[2018-05-09 10:22:09,332] Starting new video recorder writing to /tmp/openaigym.video.0.27601.video000366.mp4\n"
     ]
    },
    {
     "name": "stdout",
     "output_type": "stream",
     "text": [
      "episode: 365/1000, score: 33, e: 0.16\n"
     ]
    },
    {
     "name": "stderr",
     "output_type": "stream",
     "text": [
      "[2018-05-09 10:22:09,919] Starting new video recorder writing to /tmp/openaigym.video.0.27601.video000367.mp4\n"
     ]
    },
    {
     "name": "stdout",
     "output_type": "stream",
     "text": [
      "episode: 366/1000, score: 25, e: 0.16\n"
     ]
    },
    {
     "name": "stderr",
     "output_type": "stream",
     "text": [
      "[2018-05-09 10:22:10,542] Starting new video recorder writing to /tmp/openaigym.video.0.27601.video000368.mp4\n"
     ]
    },
    {
     "name": "stdout",
     "output_type": "stream",
     "text": [
      "episode: 367/1000, score: 27, e: 0.16\n"
     ]
    },
    {
     "name": "stderr",
     "output_type": "stream",
     "text": [
      "[2018-05-09 10:22:12,343] Starting new video recorder writing to /tmp/openaigym.video.0.27601.video000369.mp4\n"
     ]
    },
    {
     "name": "stdout",
     "output_type": "stream",
     "text": [
      "episode: 368/1000, score: 96, e: 0.16\n"
     ]
    },
    {
     "name": "stderr",
     "output_type": "stream",
     "text": [
      "[2018-05-09 10:22:13,691] Starting new video recorder writing to /tmp/openaigym.video.0.27601.video000370.mp4\n"
     ]
    },
    {
     "name": "stdout",
     "output_type": "stream",
     "text": [
      "episode: 369/1000, score: 71, e: 0.16\n"
     ]
    },
    {
     "name": "stderr",
     "output_type": "stream",
     "text": [
      "[2018-05-09 10:22:16,376] Starting new video recorder writing to /tmp/openaigym.video.0.27601.video000371.mp4\n"
     ]
    },
    {
     "name": "stdout",
     "output_type": "stream",
     "text": [
      "episode: 370/1000, score: 151, e: 0.16\n"
     ]
    },
    {
     "name": "stderr",
     "output_type": "stream",
     "text": [
      "[2018-05-09 10:22:17,806] Starting new video recorder writing to /tmp/openaigym.video.0.27601.video000372.mp4\n"
     ]
    },
    {
     "name": "stdout",
     "output_type": "stream",
     "text": [
      "episode: 371/1000, score: 76, e: 0.16\n"
     ]
    },
    {
     "name": "stderr",
     "output_type": "stream",
     "text": [
      "[2018-05-09 10:22:19,858] Starting new video recorder writing to /tmp/openaigym.video.0.27601.video000373.mp4\n"
     ]
    },
    {
     "name": "stdout",
     "output_type": "stream",
     "text": [
      "episode: 372/1000, score: 113, e: 0.16\n"
     ]
    },
    {
     "name": "stderr",
     "output_type": "stream",
     "text": [
      "[2018-05-09 10:22:22,099] Starting new video recorder writing to /tmp/openaigym.video.0.27601.video000374.mp4\n"
     ]
    },
    {
     "name": "stdout",
     "output_type": "stream",
     "text": [
      "episode: 373/1000, score: 122, e: 0.16\n"
     ]
    },
    {
     "name": "stderr",
     "output_type": "stream",
     "text": [
      "[2018-05-09 10:22:23,433] Starting new video recorder writing to /tmp/openaigym.video.0.27601.video000375.mp4\n"
     ]
    },
    {
     "name": "stdout",
     "output_type": "stream",
     "text": [
      "episode: 374/1000, score: 69, e: 0.15\n"
     ]
    },
    {
     "name": "stderr",
     "output_type": "stream",
     "text": [
      "[2018-05-09 10:22:25,028] Starting new video recorder writing to /tmp/openaigym.video.0.27601.video000376.mp4\n"
     ]
    },
    {
     "name": "stdout",
     "output_type": "stream",
     "text": [
      "episode: 375/1000, score: 84, e: 0.15\n"
     ]
    },
    {
     "name": "stderr",
     "output_type": "stream",
     "text": [
      "[2018-05-09 10:22:26,347] Starting new video recorder writing to /tmp/openaigym.video.0.27601.video000377.mp4\n"
     ]
    },
    {
     "name": "stdout",
     "output_type": "stream",
     "text": [
      "episode: 376/1000, score: 69, e: 0.15\n"
     ]
    },
    {
     "name": "stderr",
     "output_type": "stream",
     "text": [
      "[2018-05-09 10:22:27,825] Starting new video recorder writing to /tmp/openaigym.video.0.27601.video000378.mp4\n"
     ]
    },
    {
     "name": "stdout",
     "output_type": "stream",
     "text": [
      "episode: 377/1000, score: 79, e: 0.15\n"
     ]
    },
    {
     "name": "stderr",
     "output_type": "stream",
     "text": [
      "[2018-05-09 10:22:30,681] Starting new video recorder writing to /tmp/openaigym.video.0.27601.video000379.mp4\n"
     ]
    },
    {
     "name": "stdout",
     "output_type": "stream",
     "text": [
      "episode: 378/1000, score: 161, e: 0.15\n"
     ]
    },
    {
     "name": "stderr",
     "output_type": "stream",
     "text": [
      "[2018-05-09 10:22:32,755] Starting new video recorder writing to /tmp/openaigym.video.0.27601.video000380.mp4\n"
     ]
    },
    {
     "name": "stdout",
     "output_type": "stream",
     "text": [
      "episode: 379/1000, score: 115, e: 0.15\n"
     ]
    },
    {
     "name": "stderr",
     "output_type": "stream",
     "text": [
      "[2018-05-09 10:22:34,876] Starting new video recorder writing to /tmp/openaigym.video.0.27601.video000381.mp4\n"
     ]
    },
    {
     "name": "stdout",
     "output_type": "stream",
     "text": [
      "episode: 380/1000, score: 112, e: 0.15\n"
     ]
    },
    {
     "name": "stderr",
     "output_type": "stream",
     "text": [
      "[2018-05-09 10:22:37,609] Starting new video recorder writing to /tmp/openaigym.video.0.27601.video000382.mp4\n"
     ]
    },
    {
     "name": "stdout",
     "output_type": "stream",
     "text": [
      "episode: 381/1000, score: 154, e: 0.15\n"
     ]
    },
    {
     "name": "stderr",
     "output_type": "stream",
     "text": [
      "[2018-05-09 10:22:39,082] Starting new video recorder writing to /tmp/openaigym.video.0.27601.video000383.mp4\n"
     ]
    },
    {
     "name": "stdout",
     "output_type": "stream",
     "text": [
      "episode: 382/1000, score: 76, e: 0.15\n"
     ]
    },
    {
     "name": "stderr",
     "output_type": "stream",
     "text": [
      "[2018-05-09 10:22:40,393] Starting new video recorder writing to /tmp/openaigym.video.0.27601.video000384.mp4\n"
     ]
    },
    {
     "name": "stdout",
     "output_type": "stream",
     "text": [
      "episode: 383/1000, score: 65, e: 0.15\n"
     ]
    },
    {
     "name": "stderr",
     "output_type": "stream",
     "text": [
      "[2018-05-09 10:22:41,854] Starting new video recorder writing to /tmp/openaigym.video.0.27601.video000385.mp4\n"
     ]
    },
    {
     "name": "stdout",
     "output_type": "stream",
     "text": [
      "episode: 384/1000, score: 70, e: 0.15\n"
     ]
    },
    {
     "name": "stderr",
     "output_type": "stream",
     "text": [
      "[2018-05-09 10:22:44,397] Starting new video recorder writing to /tmp/openaigym.video.0.27601.video000386.mp4\n"
     ]
    },
    {
     "name": "stdout",
     "output_type": "stream",
     "text": [
      "episode: 385/1000, score: 142, e: 0.15\n"
     ]
    },
    {
     "name": "stderr",
     "output_type": "stream",
     "text": [
      "[2018-05-09 10:22:46,497] Starting new video recorder writing to /tmp/openaigym.video.0.27601.video000387.mp4\n"
     ]
    },
    {
     "name": "stdout",
     "output_type": "stream",
     "text": [
      "episode: 386/1000, score: 116, e: 0.15\n"
     ]
    },
    {
     "name": "stderr",
     "output_type": "stream",
     "text": [
      "[2018-05-09 10:22:48,361] Starting new video recorder writing to /tmp/openaigym.video.0.27601.video000388.mp4\n"
     ]
    },
    {
     "name": "stdout",
     "output_type": "stream",
     "text": [
      "episode: 387/1000, score: 95, e: 0.15\n"
     ]
    },
    {
     "name": "stderr",
     "output_type": "stream",
     "text": [
      "[2018-05-09 10:22:49,734] Starting new video recorder writing to /tmp/openaigym.video.0.27601.video000389.mp4\n"
     ]
    },
    {
     "name": "stdout",
     "output_type": "stream",
     "text": [
      "episode: 388/1000, score: 53, e: 0.14\n"
     ]
    },
    {
     "name": "stderr",
     "output_type": "stream",
     "text": [
      "[2018-05-09 10:22:50,422] Starting new video recorder writing to /tmp/openaigym.video.0.27601.video000390.mp4\n"
     ]
    },
    {
     "name": "stdout",
     "output_type": "stream",
     "text": [
      "episode: 389/1000, score: 53, e: 0.14\n"
     ]
    },
    {
     "name": "stderr",
     "output_type": "stream",
     "text": [
      "[2018-05-09 10:22:51,895] Starting new video recorder writing to /tmp/openaigym.video.0.27601.video000391.mp4\n"
     ]
    },
    {
     "name": "stdout",
     "output_type": "stream",
     "text": [
      "episode: 390/1000, score: 132, e: 0.14\n"
     ]
    },
    {
     "name": "stderr",
     "output_type": "stream",
     "text": [
      "[2018-05-09 10:22:52,791] Starting new video recorder writing to /tmp/openaigym.video.0.27601.video000392.mp4\n"
     ]
    },
    {
     "name": "stdout",
     "output_type": "stream",
     "text": [
      "episode: 391/1000, score: 68, e: 0.14\n"
     ]
    },
    {
     "name": "stderr",
     "output_type": "stream",
     "text": [
      "[2018-05-09 10:22:53,511] Starting new video recorder writing to /tmp/openaigym.video.0.27601.video000393.mp4\n"
     ]
    },
    {
     "name": "stdout",
     "output_type": "stream",
     "text": [
      "episode: 392/1000, score: 56, e: 0.14\n"
     ]
    },
    {
     "name": "stderr",
     "output_type": "stream",
     "text": [
      "[2018-05-09 10:22:54,261] Starting new video recorder writing to /tmp/openaigym.video.0.27601.video000394.mp4\n"
     ]
    },
    {
     "name": "stdout",
     "output_type": "stream",
     "text": [
      "episode: 393/1000, score: 56, e: 0.14\n"
     ]
    },
    {
     "name": "stderr",
     "output_type": "stream",
     "text": [
      "[2018-05-09 10:22:54,894] Starting new video recorder writing to /tmp/openaigym.video.0.27601.video000395.mp4\n"
     ]
    },
    {
     "name": "stdout",
     "output_type": "stream",
     "text": [
      "episode: 394/1000, score: 50, e: 0.14\n"
     ]
    },
    {
     "name": "stderr",
     "output_type": "stream",
     "text": [
      "[2018-05-09 10:22:55,766] Starting new video recorder writing to /tmp/openaigym.video.0.27601.video000396.mp4\n"
     ]
    },
    {
     "name": "stdout",
     "output_type": "stream",
     "text": [
      "episode: 395/1000, score: 71, e: 0.14\n"
     ]
    },
    {
     "name": "stderr",
     "output_type": "stream",
     "text": [
      "[2018-05-09 10:22:56,695] Starting new video recorder writing to /tmp/openaigym.video.0.27601.video000397.mp4\n"
     ]
    },
    {
     "name": "stdout",
     "output_type": "stream",
     "text": [
      "episode: 396/1000, score: 81, e: 0.14\n"
     ]
    },
    {
     "name": "stderr",
     "output_type": "stream",
     "text": [
      "[2018-05-09 10:22:57,797] Starting new video recorder writing to /tmp/openaigym.video.0.27601.video000398.mp4\n"
     ]
    },
    {
     "name": "stdout",
     "output_type": "stream",
     "text": [
      "episode: 397/1000, score: 82, e: 0.14\n"
     ]
    },
    {
     "name": "stderr",
     "output_type": "stream",
     "text": [
      "[2018-05-09 10:22:58,590] Starting new video recorder writing to /tmp/openaigym.video.0.27601.video000399.mp4\n"
     ]
    },
    {
     "name": "stdout",
     "output_type": "stream",
     "text": [
      "episode: 398/1000, score: 62, e: 0.14\n",
      "episode: 399/1000, score: 60, e: 0.14\n"
     ]
    },
    {
     "name": "stderr",
     "output_type": "stream",
     "text": [
      "[2018-05-09 10:22:59,527] Starting new video recorder writing to /tmp/openaigym.video.0.27601.video000400.mp4\n"
     ]
    },
    {
     "name": "stdout",
     "output_type": "stream",
     "text": [
      "episode: 400/1000, score: 78, e: 0.14\n"
     ]
    },
    {
     "name": "stderr",
     "output_type": "stream",
     "text": [
      "[2018-05-09 10:23:01,636] Starting new video recorder writing to /tmp/openaigym.video.0.27601.video000401.mp4\n",
      "[2018-05-09 10:23:02,832] Starting new video recorder writing to /tmp/openaigym.video.0.27601.video000402.mp4\n"
     ]
    },
    {
     "name": "stdout",
     "output_type": "stream",
     "text": [
      "episode: 401/1000, score: 67, e: 0.14\n"
     ]
    },
    {
     "name": "stderr",
     "output_type": "stream",
     "text": [
      "[2018-05-09 10:23:03,618] Starting new video recorder writing to /tmp/openaigym.video.0.27601.video000403.mp4\n"
     ]
    },
    {
     "name": "stdout",
     "output_type": "stream",
     "text": [
      "episode: 402/1000, score: 58, e: 0.13\n"
     ]
    },
    {
     "name": "stderr",
     "output_type": "stream",
     "text": [
      "[2018-05-09 10:23:04,754] Starting new video recorder writing to /tmp/openaigym.video.0.27601.video000404.mp4\n"
     ]
    },
    {
     "name": "stdout",
     "output_type": "stream",
     "text": [
      "episode: 403/1000, score: 79, e: 0.13\n"
     ]
    },
    {
     "name": "stderr",
     "output_type": "stream",
     "text": [
      "[2018-05-09 10:23:05,443] Starting new video recorder writing to /tmp/openaigym.video.0.27601.video000405.mp4\n"
     ]
    },
    {
     "name": "stdout",
     "output_type": "stream",
     "text": [
      "episode: 404/1000, score: 54, e: 0.13\n"
     ]
    },
    {
     "name": "stderr",
     "output_type": "stream",
     "text": [
      "[2018-05-09 10:23:06,300] Starting new video recorder writing to /tmp/openaigym.video.0.27601.video000406.mp4\n"
     ]
    },
    {
     "name": "stdout",
     "output_type": "stream",
     "text": [
      "episode: 405/1000, score: 66, e: 0.13\n"
     ]
    },
    {
     "name": "stderr",
     "output_type": "stream",
     "text": [
      "[2018-05-09 10:23:07,116] Starting new video recorder writing to /tmp/openaigym.video.0.27601.video000407.mp4\n"
     ]
    },
    {
     "name": "stdout",
     "output_type": "stream",
     "text": [
      "episode: 406/1000, score: 66, e: 0.13\n"
     ]
    },
    {
     "name": "stderr",
     "output_type": "stream",
     "text": [
      "[2018-05-09 10:23:08,012] Starting new video recorder writing to /tmp/openaigym.video.0.27601.video000408.mp4\n"
     ]
    },
    {
     "name": "stdout",
     "output_type": "stream",
     "text": [
      "episode: 407/1000, score: 74, e: 0.13\n",
      "episode: 408/1000, score: 57, e: 0.13\n"
     ]
    },
    {
     "name": "stderr",
     "output_type": "stream",
     "text": [
      "[2018-05-09 10:27:11,127] Starting new video recorder writing to /tmp/openaigym.video.0.27601.video000409.mp4\n",
      "[2018-05-09 10:27:12,235] Starting new video recorder writing to /tmp/openaigym.video.0.27601.video000410.mp4\n"
     ]
    },
    {
     "name": "stdout",
     "output_type": "stream",
     "text": [
      "episode: 409/1000, score: 56, e: 0.13\n"
     ]
    },
    {
     "name": "stderr",
     "output_type": "stream",
     "text": [
      "[2018-05-09 10:27:13,303] Starting new video recorder writing to /tmp/openaigym.video.0.27601.video000411.mp4\n"
     ]
    },
    {
     "name": "stdout",
     "output_type": "stream",
     "text": [
      "episode: 410/1000, score: 74, e: 0.13\n"
     ]
    },
    {
     "name": "stderr",
     "output_type": "stream",
     "text": [
      "[2018-05-09 10:27:14,828] Starting new video recorder writing to /tmp/openaigym.video.0.27601.video000412.mp4\n"
     ]
    },
    {
     "name": "stdout",
     "output_type": "stream",
     "text": [
      "episode: 411/1000, score: 89, e: 0.13\n"
     ]
    },
    {
     "name": "stderr",
     "output_type": "stream",
     "text": [
      "[2018-05-09 10:27:17,206] Starting new video recorder writing to /tmp/openaigym.video.0.27601.video000413.mp4\n"
     ]
    },
    {
     "name": "stdout",
     "output_type": "stream",
     "text": [
      "episode: 412/1000, score: 154, e: 0.13\n"
     ]
    },
    {
     "name": "stderr",
     "output_type": "stream",
     "text": [
      "[2018-05-09 10:27:19,353] Starting new video recorder writing to /tmp/openaigym.video.0.27601.video000414.mp4\n"
     ]
    },
    {
     "name": "stdout",
     "output_type": "stream",
     "text": [
      "episode: 413/1000, score: 184, e: 0.13\n"
     ]
    },
    {
     "name": "stderr",
     "output_type": "stream",
     "text": [
      "[2018-05-09 10:27:20,261] Starting new video recorder writing to /tmp/openaigym.video.0.27601.video000415.mp4\n"
     ]
    },
    {
     "name": "stdout",
     "output_type": "stream",
     "text": [
      "episode: 414/1000, score: 77, e: 0.13\n"
     ]
    },
    {
     "name": "stderr",
     "output_type": "stream",
     "text": [
      "[2018-05-09 10:27:21,579] Starting new video recorder writing to /tmp/openaigym.video.0.27601.video000416.mp4\n"
     ]
    },
    {
     "name": "stdout",
     "output_type": "stream",
     "text": [
      "episode: 415/1000, score: 118, e: 0.13\n"
     ]
    },
    {
     "name": "stderr",
     "output_type": "stream",
     "text": [
      "[2018-05-09 10:27:22,601] Starting new video recorder writing to /tmp/openaigym.video.0.27601.video000417.mp4\n"
     ]
    },
    {
     "name": "stdout",
     "output_type": "stream",
     "text": [
      "episode: 416/1000, score: 90, e: 0.13\n"
     ]
    },
    {
     "name": "stderr",
     "output_type": "stream",
     "text": [
      "[2018-05-09 10:27:24,559] Starting new video recorder writing to /tmp/openaigym.video.0.27601.video000418.mp4\n"
     ]
    },
    {
     "name": "stdout",
     "output_type": "stream",
     "text": [
      "episode: 417/1000, score: 126, e: 0.12\n"
     ]
    },
    {
     "name": "stderr",
     "output_type": "stream",
     "text": [
      "[2018-05-09 10:27:26,396] Starting new video recorder writing to /tmp/openaigym.video.0.27601.video000419.mp4\n"
     ]
    },
    {
     "name": "stdout",
     "output_type": "stream",
     "text": [
      "episode: 418/1000, score: 111, e: 0.12\n"
     ]
    },
    {
     "name": "stderr",
     "output_type": "stream",
     "text": [
      "[2018-05-09 10:27:29,466] Starting new video recorder writing to /tmp/openaigym.video.0.27601.video000420.mp4\n"
     ]
    },
    {
     "name": "stdout",
     "output_type": "stream",
     "text": [
      "episode: 419/1000, score: 197, e: 0.12\n"
     ]
    },
    {
     "name": "stderr",
     "output_type": "stream",
     "text": [
      "[2018-05-09 10:27:30,817] Starting new video recorder writing to /tmp/openaigym.video.0.27601.video000421.mp4\n"
     ]
    },
    {
     "name": "stdout",
     "output_type": "stream",
     "text": [
      "episode: 420/1000, score: 79, e: 0.12\n"
     ]
    },
    {
     "name": "stderr",
     "output_type": "stream",
     "text": [
      "[2018-05-09 10:27:32,777] Starting new video recorder writing to /tmp/openaigym.video.0.27601.video000422.mp4\n"
     ]
    },
    {
     "name": "stdout",
     "output_type": "stream",
     "text": [
      "episode: 421/1000, score: 122, e: 0.12\n"
     ]
    },
    {
     "name": "stderr",
     "output_type": "stream",
     "text": [
      "[2018-05-09 10:27:34,662] Starting new video recorder writing to /tmp/openaigym.video.0.27601.video000423.mp4\n"
     ]
    },
    {
     "name": "stdout",
     "output_type": "stream",
     "text": [
      "episode: 422/1000, score: 107, e: 0.12\n"
     ]
    },
    {
     "name": "stderr",
     "output_type": "stream",
     "text": [
      "[2018-05-09 10:27:36,060] Starting new video recorder writing to /tmp/openaigym.video.0.27601.video000424.mp4\n"
     ]
    },
    {
     "name": "stdout",
     "output_type": "stream",
     "text": [
      "episode: 423/1000, score: 86, e: 0.12\n"
     ]
    },
    {
     "name": "stderr",
     "output_type": "stream",
     "text": [
      "[2018-05-09 10:27:38,587] Starting new video recorder writing to /tmp/openaigym.video.0.27601.video000425.mp4\n"
     ]
    },
    {
     "name": "stdout",
     "output_type": "stream",
     "text": [
      "episode: 424/1000, score: 168, e: 0.12\n"
     ]
    },
    {
     "name": "stderr",
     "output_type": "stream",
     "text": [
      "[2018-05-09 10:27:40,218] Starting new video recorder writing to /tmp/openaigym.video.0.27601.video000426.mp4\n"
     ]
    },
    {
     "name": "stdout",
     "output_type": "stream",
     "text": [
      "episode: 425/1000, score: 105, e: 0.12\n"
     ]
    },
    {
     "name": "stderr",
     "output_type": "stream",
     "text": [
      "[2018-05-09 10:27:43,153] Starting new video recorder writing to /tmp/openaigym.video.0.27601.video000427.mp4\n"
     ]
    },
    {
     "name": "stdout",
     "output_type": "stream",
     "text": [
      "episode: 426/1000, score: 199, e: 0.12\n"
     ]
    },
    {
     "name": "stderr",
     "output_type": "stream",
     "text": [
      "[2018-05-09 10:27:44,863] Starting new video recorder writing to /tmp/openaigym.video.0.27601.video000428.mp4\n"
     ]
    },
    {
     "name": "stdout",
     "output_type": "stream",
     "text": [
      "episode: 427/1000, score: 110, e: 0.12\n",
      "episode: 428/1000, score: 110, e: 0.12\n"
     ]
    },
    {
     "name": "stderr",
     "output_type": "stream",
     "text": [
      "[2018-05-09 10:29:11,599] Starting new video recorder writing to /tmp/openaigym.video.0.27601.video000429.mp4\n",
      "[2018-05-09 10:29:13,091] Starting new video recorder writing to /tmp/openaigym.video.0.27601.video000430.mp4\n"
     ]
    },
    {
     "name": "stdout",
     "output_type": "stream",
     "text": [
      "episode: 429/1000, score: 120, e: 0.12\n"
     ]
    },
    {
     "name": "stderr",
     "output_type": "stream",
     "text": [
      "[2018-05-09 10:29:14,336] Starting new video recorder writing to /tmp/openaigym.video.0.27601.video000431.mp4\n"
     ]
    },
    {
     "name": "stdout",
     "output_type": "stream",
     "text": [
      "episode: 430/1000, score: 105, e: 0.12\n"
     ]
    },
    {
     "name": "stderr",
     "output_type": "stream",
     "text": [
      "[2018-05-09 10:29:15,865] Starting new video recorder writing to /tmp/openaigym.video.0.27601.video000432.mp4\n"
     ]
    },
    {
     "name": "stdout",
     "output_type": "stream",
     "text": [
      "episode: 431/1000, score: 137, e: 0.12\n"
     ]
    },
    {
     "name": "stderr",
     "output_type": "stream",
     "text": [
      "[2018-05-09 10:29:17,455] Starting new video recorder writing to /tmp/openaigym.video.0.27601.video000433.mp4\n"
     ]
    },
    {
     "name": "stdout",
     "output_type": "stream",
     "text": [
      "episode: 432/1000, score: 134, e: 0.12\n"
     ]
    },
    {
     "name": "stderr",
     "output_type": "stream",
     "text": [
      "[2018-05-09 10:29:19,440] Starting new video recorder writing to /tmp/openaigym.video.0.27601.video000434.mp4\n"
     ]
    },
    {
     "name": "stdout",
     "output_type": "stream",
     "text": [
      "episode: 433/1000, score: 186, e: 0.12\n"
     ]
    },
    {
     "name": "stderr",
     "output_type": "stream",
     "text": [
      "[2018-05-09 10:29:19,960] Starting new video recorder writing to /tmp/openaigym.video.0.27601.video000435.mp4\n"
     ]
    },
    {
     "name": "stdout",
     "output_type": "stream",
     "text": [
      "episode: 434/1000, score: 33, e: 0.11\n"
     ]
    },
    {
     "name": "stderr",
     "output_type": "stream",
     "text": [
      "[2018-05-09 10:29:20,954] Starting new video recorder writing to /tmp/openaigym.video.0.27601.video000436.mp4\n"
     ]
    },
    {
     "name": "stdout",
     "output_type": "stream",
     "text": [
      "episode: 435/1000, score: 86, e: 0.11\n"
     ]
    },
    {
     "name": "stderr",
     "output_type": "stream",
     "text": [
      "[2018-05-09 10:29:21,712] Starting new video recorder writing to /tmp/openaigym.video.0.27601.video000437.mp4\n"
     ]
    },
    {
     "name": "stdout",
     "output_type": "stream",
     "text": [
      "episode: 436/1000, score: 60, e: 0.11\n"
     ]
    },
    {
     "name": "stderr",
     "output_type": "stream",
     "text": [
      "[2018-05-09 10:29:22,573] Starting new video recorder writing to /tmp/openaigym.video.0.27601.video000438.mp4\n"
     ]
    },
    {
     "name": "stdout",
     "output_type": "stream",
     "text": [
      "episode: 437/1000, score: 69, e: 0.11\n"
     ]
    },
    {
     "name": "stderr",
     "output_type": "stream",
     "text": [
      "[2018-05-09 10:29:24,272] Starting new video recorder writing to /tmp/openaigym.video.0.27601.video000439.mp4\n"
     ]
    },
    {
     "name": "stdout",
     "output_type": "stream",
     "text": [
      "episode: 438/1000, score: 118, e: 0.11\n"
     ]
    },
    {
     "name": "stderr",
     "output_type": "stream",
     "text": [
      "[2018-05-09 10:29:25,854] Starting new video recorder writing to /tmp/openaigym.video.0.27601.video000440.mp4\n"
     ]
    },
    {
     "name": "stdout",
     "output_type": "stream",
     "text": [
      "episode: 439/1000, score: 90, e: 0.11\n"
     ]
    },
    {
     "name": "stderr",
     "output_type": "stream",
     "text": [
      "[2018-05-09 10:29:27,424] Starting new video recorder writing to /tmp/openaigym.video.0.27601.video000441.mp4\n"
     ]
    },
    {
     "name": "stdout",
     "output_type": "stream",
     "text": [
      "episode: 440/1000, score: 99, e: 0.11\n",
      "episode: 441/1000, score: 87, e: 0.11\n"
     ]
    },
    {
     "name": "stderr",
     "output_type": "stream",
     "text": [
      "[2018-05-09 10:29:28,939] Starting new video recorder writing to /tmp/openaigym.video.0.27601.video000442.mp4\n",
      "[2018-05-09 10:29:30,627] Starting new video recorder writing to /tmp/openaigym.video.0.27601.video000443.mp4\n"
     ]
    },
    {
     "name": "stdout",
     "output_type": "stream",
     "text": [
      "episode: 442/1000, score: 93, e: 0.11\n"
     ]
    },
    {
     "name": "stderr",
     "output_type": "stream",
     "text": [
      "[2018-05-09 10:29:32,299] Starting new video recorder writing to /tmp/openaigym.video.0.27601.video000444.mp4\n"
     ]
    },
    {
     "name": "stdout",
     "output_type": "stream",
     "text": [
      "episode: 443/1000, score: 100, e: 0.11\n"
     ]
    },
    {
     "name": "stderr",
     "output_type": "stream",
     "text": [
      "[2018-05-09 10:29:35,355] Starting new video recorder writing to /tmp/openaigym.video.0.27601.video000445.mp4\n"
     ]
    },
    {
     "name": "stdout",
     "output_type": "stream",
     "text": [
      "episode: 444/1000, score: 199, e: 0.11\n"
     ]
    },
    {
     "name": "stderr",
     "output_type": "stream",
     "text": [
      "[2018-05-09 10:29:37,282] Starting new video recorder writing to /tmp/openaigym.video.0.27601.video000446.mp4\n"
     ]
    },
    {
     "name": "stdout",
     "output_type": "stream",
     "text": [
      "episode: 445/1000, score: 122, e: 0.11\n"
     ]
    },
    {
     "name": "stderr",
     "output_type": "stream",
     "text": [
      "[2018-05-09 10:29:39,321] Starting new video recorder writing to /tmp/openaigym.video.0.27601.video000447.mp4\n"
     ]
    },
    {
     "name": "stdout",
     "output_type": "stream",
     "text": [
      "episode: 446/1000, score: 110, e: 0.11\n"
     ]
    },
    {
     "name": "stderr",
     "output_type": "stream",
     "text": [
      "[2018-05-09 10:29:39,893] Starting new video recorder writing to /tmp/openaigym.video.0.27601.video000448.mp4\n"
     ]
    },
    {
     "name": "stdout",
     "output_type": "stream",
     "text": [
      "episode: 447/1000, score: 23, e: 0.11\n"
     ]
    },
    {
     "name": "stderr",
     "output_type": "stream",
     "text": [
      "[2018-05-09 10:29:40,712] Starting new video recorder writing to /tmp/openaigym.video.0.27601.video000449.mp4\n"
     ]
    },
    {
     "name": "stdout",
     "output_type": "stream",
     "text": [
      "episode: 448/1000, score: 40, e: 0.11\n"
     ]
    },
    {
     "name": "stderr",
     "output_type": "stream",
     "text": [
      "[2018-05-09 10:29:43,637] Starting new video recorder writing to /tmp/openaigym.video.0.27601.video000450.mp4\n"
     ]
    },
    {
     "name": "stdout",
     "output_type": "stream",
     "text": [
      "episode: 449/1000, score: 189, e: 0.11\n"
     ]
    },
    {
     "name": "stderr",
     "output_type": "stream",
     "text": [
      "[2018-05-09 10:30:25,468] Starting new video recorder writing to /tmp/openaigym.video.0.27601.video000451.mp4\n"
     ]
    },
    {
     "name": "stdout",
     "output_type": "stream",
     "text": [
      "episode: 450/1000, score: 195, e: 0.11\n"
     ]
    },
    {
     "name": "stderr",
     "output_type": "stream",
     "text": [
      "[2018-05-09 10:30:27,166] Starting new video recorder writing to /tmp/openaigym.video.0.27601.video000452.mp4\n"
     ]
    },
    {
     "name": "stdout",
     "output_type": "stream",
     "text": [
      "episode: 451/1000, score: 126, e: 0.11\n"
     ]
    },
    {
     "name": "stderr",
     "output_type": "stream",
     "text": [
      "[2018-05-09 10:30:28,321] Starting new video recorder writing to /tmp/openaigym.video.0.27601.video000453.mp4\n"
     ]
    },
    {
     "name": "stdout",
     "output_type": "stream",
     "text": [
      "episode: 452/1000, score: 90, e: 0.1\n",
      "episode: 453/1000, score: 111, e: 0.1\n"
     ]
    },
    {
     "name": "stderr",
     "output_type": "stream",
     "text": [
      "[2018-05-09 10:30:30,042] Starting new video recorder writing to /tmp/openaigym.video.0.27601.video000454.mp4\n",
      "[2018-05-09 10:30:32,383] Starting new video recorder writing to /tmp/openaigym.video.0.27601.video000455.mp4\n"
     ]
    },
    {
     "name": "stdout",
     "output_type": "stream",
     "text": [
      "episode: 454/1000, score: 199, e: 0.1\n"
     ]
    },
    {
     "name": "stderr",
     "output_type": "stream",
     "text": [
      "[2018-05-09 10:30:34,293] Starting new video recorder writing to /tmp/openaigym.video.0.27601.video000456.mp4\n"
     ]
    },
    {
     "name": "stdout",
     "output_type": "stream",
     "text": [
      "episode: 455/1000, score: 177, e: 0.1\n"
     ]
    },
    {
     "name": "stderr",
     "output_type": "stream",
     "text": [
      "[2018-05-09 10:30:36,215] Starting new video recorder writing to /tmp/openaigym.video.0.27601.video000457.mp4\n"
     ]
    },
    {
     "name": "stdout",
     "output_type": "stream",
     "text": [
      "episode: 456/1000, score: 167, e: 0.1\n"
     ]
    },
    {
     "name": "stderr",
     "output_type": "stream",
     "text": [
      "[2018-05-09 10:30:37,600] Starting new video recorder writing to /tmp/openaigym.video.0.27601.video000458.mp4\n"
     ]
    },
    {
     "name": "stdout",
     "output_type": "stream",
     "text": [
      "episode: 457/1000, score: 106, e: 0.1\n",
      "episode: 458/1000, score: 114, e: 0.1\n"
     ]
    },
    {
     "name": "stderr",
     "output_type": "stream",
     "text": [
      "[2018-05-09 10:30:39,593] Starting new video recorder writing to /tmp/openaigym.video.0.27601.video000459.mp4\n",
      "[2018-05-09 10:30:42,935] Starting new video recorder writing to /tmp/openaigym.video.0.27601.video000460.mp4\n"
     ]
    },
    {
     "name": "stdout",
     "output_type": "stream",
     "text": [
      "episode: 459/1000, score: 199, e: 0.1\n"
     ]
    },
    {
     "name": "stderr",
     "output_type": "stream",
     "text": [
      "[2018-05-09 10:30:45,428] Starting new video recorder writing to /tmp/openaigym.video.0.27601.video000461.mp4\n"
     ]
    },
    {
     "name": "stdout",
     "output_type": "stream",
     "text": [
      "episode: 460/1000, score: 153, e: 0.1\n"
     ]
    },
    {
     "name": "stderr",
     "output_type": "stream",
     "text": [
      "[2018-05-09 10:30:47,623] Starting new video recorder writing to /tmp/openaigym.video.0.27601.video000462.mp4\n"
     ]
    },
    {
     "name": "stdout",
     "output_type": "stream",
     "text": [
      "episode: 461/1000, score: 136, e: 0.1\n"
     ]
    },
    {
     "name": "stderr",
     "output_type": "stream",
     "text": [
      "[2018-05-09 10:30:49,600] Starting new video recorder writing to /tmp/openaigym.video.0.27601.video000463.mp4\n"
     ]
    },
    {
     "name": "stdout",
     "output_type": "stream",
     "text": [
      "episode: 462/1000, score: 126, e: 0.1\n"
     ]
    },
    {
     "name": "stderr",
     "output_type": "stream",
     "text": [
      "[2018-05-09 10:30:51,527] Starting new video recorder writing to /tmp/openaigym.video.0.27601.video000464.mp4\n"
     ]
    },
    {
     "name": "stdout",
     "output_type": "stream",
     "text": [
      "episode: 463/1000, score: 122, e: 0.099\n"
     ]
    },
    {
     "name": "stderr",
     "output_type": "stream",
     "text": [
      "[2018-05-09 10:30:53,481] Starting new video recorder writing to /tmp/openaigym.video.0.27601.video000465.mp4\n"
     ]
    },
    {
     "name": "stdout",
     "output_type": "stream",
     "text": [
      "episode: 464/1000, score: 123, e: 0.099\n"
     ]
    },
    {
     "name": "stderr",
     "output_type": "stream",
     "text": [
      "[2018-05-09 10:30:55,883] Starting new video recorder writing to /tmp/openaigym.video.0.27601.video000466.mp4\n"
     ]
    },
    {
     "name": "stdout",
     "output_type": "stream",
     "text": [
      "episode: 465/1000, score: 162, e: 0.098\n"
     ]
    },
    {
     "name": "stderr",
     "output_type": "stream",
     "text": [
      "[2018-05-09 10:30:58,176] Starting new video recorder writing to /tmp/openaigym.video.0.27601.video000467.mp4\n"
     ]
    },
    {
     "name": "stdout",
     "output_type": "stream",
     "text": [
      "episode: 466/1000, score: 156, e: 0.098\n"
     ]
    },
    {
     "name": "stderr",
     "output_type": "stream",
     "text": [
      "[2018-05-09 10:48:58,763] Starting new video recorder writing to /tmp/openaigym.video.0.27601.video000468.mp4\n"
     ]
    },
    {
     "name": "stdout",
     "output_type": "stream",
     "text": [
      "episode: 467/1000, score: 105, e: 0.097\n"
     ]
    },
    {
     "name": "stderr",
     "output_type": "stream",
     "text": [
      "[2018-05-09 10:49:00,829] Starting new video recorder writing to /tmp/openaigym.video.0.27601.video000469.mp4\n"
     ]
    },
    {
     "name": "stdout",
     "output_type": "stream",
     "text": [
      "episode: 468/1000, score: 160, e: 0.097\n"
     ]
    },
    {
     "name": "stderr",
     "output_type": "stream",
     "text": [
      "[2018-05-09 10:49:02,809] Starting new video recorder writing to /tmp/openaigym.video.0.27601.video000470.mp4\n"
     ]
    },
    {
     "name": "stdout",
     "output_type": "stream",
     "text": [
      "episode: 469/1000, score: 150, e: 0.096\n"
     ]
    },
    {
     "name": "stderr",
     "output_type": "stream",
     "text": [
      "[2018-05-09 10:49:04,796] Starting new video recorder writing to /tmp/openaigym.video.0.27601.video000471.mp4\n"
     ]
    },
    {
     "name": "stdout",
     "output_type": "stream",
     "text": [
      "episode: 470/1000, score: 162, e: 0.096\n"
     ]
    },
    {
     "name": "stderr",
     "output_type": "stream",
     "text": [
      "[2018-05-09 10:49:06,434] Starting new video recorder writing to /tmp/openaigym.video.0.27601.video000472.mp4\n"
     ]
    },
    {
     "name": "stdout",
     "output_type": "stream",
     "text": [
      "episode: 471/1000, score: 125, e: 0.095\n"
     ]
    },
    {
     "name": "stderr",
     "output_type": "stream",
     "text": [
      "[2018-05-09 10:49:08,518] Starting new video recorder writing to /tmp/openaigym.video.0.27601.video000473.mp4\n"
     ]
    },
    {
     "name": "stdout",
     "output_type": "stream",
     "text": [
      "episode: 472/1000, score: 131, e: 0.095\n",
      "episode: 473/1000, score: 197, e: 0.094\n"
     ]
    },
    {
     "name": "stderr",
     "output_type": "stream",
     "text": [
      "[2018-05-09 10:49:11,303] Starting new video recorder writing to /tmp/openaigym.video.0.27601.video000474.mp4\n",
      "[2018-05-09 10:49:13,471] Starting new video recorder writing to /tmp/openaigym.video.0.27601.video000475.mp4\n"
     ]
    },
    {
     "name": "stdout",
     "output_type": "stream",
     "text": [
      "episode: 474/1000, score: 136, e: 0.094\n"
     ]
    },
    {
     "name": "stderr",
     "output_type": "stream",
     "text": [
      "[2018-05-09 10:49:15,212] Starting new video recorder writing to /tmp/openaigym.video.0.27601.video000476.mp4\n"
     ]
    },
    {
     "name": "stdout",
     "output_type": "stream",
     "text": [
      "episode: 475/1000, score: 100, e: 0.093\n",
      "episode: 476/1000, score: 48, e: 0.093\n"
     ]
    },
    {
     "name": "stderr",
     "output_type": "stream",
     "text": [
      "[2018-05-09 10:49:16,155] Starting new video recorder writing to /tmp/openaigym.video.0.27601.video000477.mp4\n",
      "[2018-05-09 10:49:18,371] Starting new video recorder writing to /tmp/openaigym.video.0.27601.video000478.mp4\n"
     ]
    },
    {
     "name": "stdout",
     "output_type": "stream",
     "text": [
      "episode: 477/1000, score: 133, e: 0.092\n"
     ]
    },
    {
     "name": "stderr",
     "output_type": "stream",
     "text": [
      "[2018-05-09 10:49:21,503] Starting new video recorder writing to /tmp/openaigym.video.0.27601.video000479.mp4\n"
     ]
    },
    {
     "name": "stdout",
     "output_type": "stream",
     "text": [
      "episode: 478/1000, score: 199, e: 0.092\n"
     ]
    },
    {
     "name": "stderr",
     "output_type": "stream",
     "text": [
      "[2018-05-09 10:49:24,438] Starting new video recorder writing to /tmp/openaigym.video.0.27601.video000480.mp4\n"
     ]
    },
    {
     "name": "stdout",
     "output_type": "stream",
     "text": [
      "episode: 479/1000, score: 192, e: 0.092\n"
     ]
    },
    {
     "name": "stderr",
     "output_type": "stream",
     "text": [
      "[2018-05-09 10:49:27,164] Starting new video recorder writing to /tmp/openaigym.video.0.27601.video000481.mp4\n"
     ]
    },
    {
     "name": "stdout",
     "output_type": "stream",
     "text": [
      "episode: 480/1000, score: 183, e: 0.091\n"
     ]
    },
    {
     "name": "stderr",
     "output_type": "stream",
     "text": [
      "[2018-05-09 10:49:30,279] Starting new video recorder writing to /tmp/openaigym.video.0.27601.video000482.mp4\n"
     ]
    },
    {
     "name": "stdout",
     "output_type": "stream",
     "text": [
      "episode: 481/1000, score: 192, e: 0.091\n"
     ]
    },
    {
     "name": "stderr",
     "output_type": "stream",
     "text": [
      "[2018-05-09 10:49:33,142] Starting new video recorder writing to /tmp/openaigym.video.0.27601.video000483.mp4\n"
     ]
    },
    {
     "name": "stdout",
     "output_type": "stream",
     "text": [
      "episode: 482/1000, score: 199, e: 0.09\n",
      "episode: 483/1000, score: 136, e: 0.09\n"
     ]
    },
    {
     "name": "stderr",
     "output_type": "stream",
     "text": [
      "[2018-05-09 10:59:49,276] Starting new video recorder writing to /tmp/openaigym.video.0.27601.video000484.mp4\n",
      "[2018-05-09 10:59:52,398] Starting new video recorder writing to /tmp/openaigym.video.0.27601.video000485.mp4\n"
     ]
    },
    {
     "name": "stdout",
     "output_type": "stream",
     "text": [
      "episode: 484/1000, score: 146, e: 0.089\n",
      "episode: 485/1000, score: 99, e: 0.089\n"
     ]
    },
    {
     "name": "stderr",
     "output_type": "stream",
     "text": [
      "[2018-05-09 10:59:54,681] Starting new video recorder writing to /tmp/openaigym.video.0.27601.video000486.mp4\n",
      "[2018-05-09 10:59:57,148] Starting new video recorder writing to /tmp/openaigym.video.0.27601.video000487.mp4\n"
     ]
    },
    {
     "name": "stdout",
     "output_type": "stream",
     "text": [
      "episode: 486/1000, score: 102, e: 0.088\n"
     ]
    },
    {
     "name": "stderr",
     "output_type": "stream",
     "text": [
      "[2018-05-09 11:00:00,943] Starting new video recorder writing to /tmp/openaigym.video.0.27601.video000488.mp4\n"
     ]
    },
    {
     "name": "stdout",
     "output_type": "stream",
     "text": [
      "episode: 487/1000, score: 199, e: 0.088\n"
     ]
    },
    {
     "name": "stderr",
     "output_type": "stream",
     "text": [
      "[2018-05-09 11:00:06,803] Starting new video recorder writing to /tmp/openaigym.video.0.27601.video000489.mp4\n"
     ]
    },
    {
     "name": "stdout",
     "output_type": "stream",
     "text": [
      "episode: 488/1000, score: 161, e: 0.088\n"
     ]
    },
    {
     "name": "stderr",
     "output_type": "stream",
     "text": [
      "[2018-05-09 11:00:08,168] Starting new video recorder writing to /tmp/openaigym.video.0.27601.video000490.mp4\n"
     ]
    },
    {
     "name": "stdout",
     "output_type": "stream",
     "text": [
      "episode: 489/1000, score: 119, e: 0.087\n"
     ]
    },
    {
     "name": "stderr",
     "output_type": "stream",
     "text": [
      "[2018-05-09 11:00:10,124] Starting new video recorder writing to /tmp/openaigym.video.0.27601.video000491.mp4\n"
     ]
    },
    {
     "name": "stdout",
     "output_type": "stream",
     "text": [
      "episode: 490/1000, score: 189, e: 0.087\n"
     ]
    },
    {
     "name": "stderr",
     "output_type": "stream",
     "text": [
      "[2018-05-09 11:00:11,797] Starting new video recorder writing to /tmp/openaigym.video.0.27601.video000492.mp4\n"
     ]
    },
    {
     "name": "stdout",
     "output_type": "stream",
     "text": [
      "episode: 491/1000, score: 151, e: 0.086\n"
     ]
    },
    {
     "name": "stderr",
     "output_type": "stream",
     "text": [
      "[2018-05-09 11:00:13,666] Starting new video recorder writing to /tmp/openaigym.video.0.27601.video000493.mp4\n"
     ]
    },
    {
     "name": "stdout",
     "output_type": "stream",
     "text": [
      "episode: 492/1000, score: 161, e: 0.086\n"
     ]
    },
    {
     "name": "stderr",
     "output_type": "stream",
     "text": [
      "[2018-05-09 11:00:16,322] Starting new video recorder writing to /tmp/openaigym.video.0.27601.video000494.mp4\n"
     ]
    },
    {
     "name": "stdout",
     "output_type": "stream",
     "text": [
      "episode: 493/1000, score: 199, e: 0.085\n"
     ]
    },
    {
     "name": "stderr",
     "output_type": "stream",
     "text": [
      "[2018-05-09 11:00:18,213] Starting new video recorder writing to /tmp/openaigym.video.0.27601.video000495.mp4\n"
     ]
    },
    {
     "name": "stdout",
     "output_type": "stream",
     "text": [
      "episode: 494/1000, score: 121, e: 0.085\n"
     ]
    },
    {
     "name": "stderr",
     "output_type": "stream",
     "text": [
      "[2018-05-09 11:00:21,264] Starting new video recorder writing to /tmp/openaigym.video.0.27601.video000496.mp4\n"
     ]
    },
    {
     "name": "stdout",
     "output_type": "stream",
     "text": [
      "episode: 495/1000, score: 190, e: 0.084\n"
     ]
    },
    {
     "name": "stderr",
     "output_type": "stream",
     "text": [
      "[2018-05-09 11:00:22,914] Starting new video recorder writing to /tmp/openaigym.video.0.27601.video000497.mp4\n"
     ]
    },
    {
     "name": "stdout",
     "output_type": "stream",
     "text": [
      "episode: 496/1000, score: 116, e: 0.084\n",
      "episode: 497/1000, score: 136, e: 0.084\n"
     ]
    },
    {
     "name": "stderr",
     "output_type": "stream",
     "text": [
      "[2018-05-09 11:00:24,723] Starting new video recorder writing to /tmp/openaigym.video.0.27601.video000498.mp4\n",
      "[2018-05-09 11:00:25,943] Starting new video recorder writing to /tmp/openaigym.video.0.27601.video000499.mp4\n"
     ]
    },
    {
     "name": "stdout",
     "output_type": "stream",
     "text": [
      "episode: 498/1000, score: 88, e: 0.083\n"
     ]
    },
    {
     "name": "stderr",
     "output_type": "stream",
     "text": [
      "[2018-05-09 11:00:27,167] Starting new video recorder writing to /tmp/openaigym.video.0.27601.video000500.mp4\n"
     ]
    },
    {
     "name": "stdout",
     "output_type": "stream",
     "text": [
      "episode: 499/1000, score: 101, e: 0.083\n"
     ]
    },
    {
     "name": "stderr",
     "output_type": "stream",
     "text": [
      "[2018-05-09 11:00:28,558] Starting new video recorder writing to /tmp/openaigym.video.0.27601.video000501.mp4\n"
     ]
    },
    {
     "name": "stdout",
     "output_type": "stream",
     "text": [
      "episode: 500/1000, score: 119, e: 0.082\n"
     ]
    }
   ],
   "source": [
    "for e in range(EPISODES):\n",
    "    state = env.reset()\n",
    "    state = np.reshape(state, [1, state_size])\n",
    "    for time in range(500):\n",
    "        # env.render()\n",
    "        action = agent.act(state)\n",
    "        next_state, reward, done, _ = env.step(action)\n",
    "        reward = reward if not done else -10\n",
    "        next_state = np.reshape(next_state, [1, state_size])\n",
    "        agent.remember(state, action, reward, next_state, done)\n",
    "        state = next_state\n",
    "        if done:\n",
    "            print(\"episode: {}/{}, score: {}, e: {:.2}\"\n",
    "                  .format(e, EPISODES, time, agent.epsilon))\n",
    "            break\n",
    "    if len(agent.memory) > batch_size:\n",
    "        agent.replay(batch_size)\n"
   ]
  },
  {
   "cell_type": "code",
   "execution_count": null,
   "metadata": {},
   "outputs": [],
   "source": [
    "!which python"
   ]
  },
  {
   "cell_type": "code",
   "execution_count": null,
   "metadata": {
    "collapsed": true
   },
   "outputs": [],
   "source": []
  }
 ],
 "metadata": {
  "kernelspec": {
   "display_name": "Python 3",
   "language": "python",
   "name": "python3"
  },
  "language_info": {
   "codemirror_mode": {
    "name": "ipython",
    "version": 3
   },
   "file_extension": ".py",
   "mimetype": "text/x-python",
   "name": "python",
   "nbconvert_exporter": "python",
   "pygments_lexer": "ipython3",
   "version": "3.6.1"
  }
 },
 "nbformat": 4,
 "nbformat_minor": 2
}
