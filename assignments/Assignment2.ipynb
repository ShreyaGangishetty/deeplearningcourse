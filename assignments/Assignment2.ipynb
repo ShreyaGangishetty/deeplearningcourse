{
 "cells": [
  {
   "cell_type": "markdown",
   "metadata": {},
   "source": [
    "# Assignment 2\n",
    "\n",
    "A NN \n",
    "- with one hidden layer (5 nodes)\n",
    "- NN activation function tanh\n",
    "- bias can be ignored\n",
    "- input layer with 2 nodes\n",
    "- output layer with 2 nodes\n",
    "- softmax with cross entropy training"
   ]
  },
  {
   "cell_type": "markdown",
   "metadata": {},
   "source": [
    "Let's first create a plotting function"
   ]
  },
  {
   "cell_type": "code",
   "execution_count": 10,
   "metadata": {
    "collapsed": true
   },
   "outputs": [],
   "source": [
    "from __future__ import print_function\n",
    "import matplotlib.pyplot as plt\n",
    "import matplotlib.tri as tri\n",
    "import numpy as np\n",
    "import matplotlib.mlab as mlab\n",
    "import time\n",
    "%matplotlib inline\n",
    "\n",
    "\n",
    "def plot_it(x_min=-2, x_max=2, y_min=-2, y_max=2, npts=8000, dataset=[], nn_callback=None):\n",
    "    xi = np.linspace(x_min, x_max, 100)\n",
    "    yi = np.linspace(y_min, y_max, 100)\n",
    "\n",
    "\n",
    "    x = np.random.uniform(x_min, x_max, npts)\n",
    "    y = np.random.uniform(y_min, y_max, npts)\n",
    "    z=[]\n",
    "    for i in range(npts):\n",
    "        #forward_pass(nn, [x[i], y[i]])[0]\n",
    "        z.append(nn_callback(nn, [x[i], y[i]])[0] )\n",
    "    zi = mlab.griddata(x, y, z, xi, yi, interp='linear')\n",
    "    plt.contour(xi, yi, zi, 0, linewidths=0.5, colors='k')\n",
    "    plt.contourf(xi, yi, zi, 15,\n",
    "                 norm=plt.Normalize(vmax=abs(zi).max(), vmin=-abs(zi).max()))\n",
    "    plt.colorbar()  # draw colorbar\n",
    "\n",
    "    tr_points_x = [a[0] for a, b in dataset if b[0] == 1]\n",
    "    tr_points_y = [a[1] for a, b in dataset  if b[0] == 1]\n",
    "    plt.plot(tr_points_x, tr_points_y, 'yo', ms=4)\n",
    "\n",
    "\n",
    "    tr_points_x = [a[0] for a, b in dataset if b[0] == 0]\n",
    "    tr_points_y = [a[1] for a, b in dataset  if b[0] == 0]\n",
    "    plt.plot(tr_points_x, tr_points_y, 'go', ms=4)\n",
    "\n",
    "    plt.xlim(x_min, x_max)\n",
    "    plt.ylim(y_min, y_max)\n",
    "    \n",
    "    "
   ]
  },
  {
   "cell_type": "markdown",
   "metadata": {},
   "source": [
    "Now, the actual NN code"
   ]
  },
  {
   "cell_type": "code",
   "execution_count": 6,
   "metadata": {},
   "outputs": [],
   "source": [
    "import numpy as np\n",
    "import math\n",
    "\n",
    "def actF(x):\n",
    "    act = math.tanh(x)\n",
    "    return [act, 1-act*act]\n",
    "\n",
    "class NodeLayer:\n",
    "\n",
    "    def __init__(self, nrNodes, outputLayer=False):\n",
    "        self.nrNodes = nrNodes\n",
    "        self.outputLayer = outputLayer\n",
    "        self.bottom_values = np.zeros([nrNodes])\n",
    "        self.top_values = np.zeros([nrNodes])\n",
    "        self.derivative_of_values = np.zeros([nrNodes])\n",
    "\n",
    "        self.top_error_grad = np.zeros([nrNodes])\n",
    "        self.bottom_error_grad = np.zeros([nrNodes])\n",
    "        \n",
    "    def forward_pass(self):\n",
    "        if self.outputLayer == False:\n",
    "            for nodeNo in range(self.nrNodes):\n",
    "                self.top_values[nodeNo], self.derivative_of_values[nodeNo] = actF(self.bottom_values[nodeNo])\n",
    "    \n",
    "    def backward_pass(self):\n",
    "        for nodeNo in range(self.nrNodes):\n",
    "            self.bottom_error_grad[nodeNo] = self.derivative_of_values[nodeNo] * self.top_error_grad[nodeNo]\n",
    "            \n",
    "    def softmax_normalization(self):\n",
    "        self.top_values = np.array([math.exp(v) for v in self.bottom_values])\n",
    "        softmax_sum = np.sum(self.top_values)\n",
    "        self.top_values /= softmax_sum\n",
    "        \n",
    "    def update_weights(self, eta):\n",
    "        pass\n",
    "    \n",
    "    def update_weights_regularized(self, eta, reg=\"\", alpha=0):\n",
    "        pass\n",
    "        \n",
    "class WeightConnection:\n",
    "\n",
    "    def __init__(self, nrNodesIn, nrNodesOut):\n",
    "        self.nrNodesIn=nrNodesIn\n",
    "        self.nrNodesOut=nrNodesOut\n",
    "        self.weights = np.random.uniform(-1,1, [nrNodesOut, nrNodesIn])\n",
    "        \n",
    "        self.bottom_values = np.zeros([nrNodesIn])\n",
    "        self.top_values = np.zeros([nrNodesOut])\n",
    "        self.top_error_grad = np.zeros([nrNodesOut])\n",
    "        self.bottom_error_grad = np.zeros([nrNodesIn])\n",
    "        self.delta = np.zeros(self.weights.shape)\n",
    "        \n",
    "    def forward_pass(self):\n",
    "        self.bottom_values = np.concatenate([self.bottom_values])\n",
    "        self.top_values = self.weights.dot(self.bottom_values)\n",
    "\n",
    "\n",
    "    def backward_pass(self):\n",
    "        self.bottom_error_grad = self.weights.transpose().dot(self.top_error_grad)\n",
    "        \n",
    "    def add_weight_gradient(self):\n",
    "        self.delta += np.outer(self.top_error_grad, self.bottom_values)\n",
    "        \n",
    "    def update_weights(self, eta):\n",
    "        self.weights = self.weights - eta * self.delta\n",
    "        self.delta = np.zeros(self.weights.shape) \n",
    "\n",
    "    def update_weights_regularized(self, eta, reg=\"\", alpha=0):\n",
    "        if reg == \"L2\":\n",
    "            self.weights = (1-eta*alpha)*self.weights - eta * self.delta\n",
    "        if reg == \"L1\":\n",
    "            a = self.delta/np.abs(self.delta)\n",
    "            self.weights = self.weights - eta * (self.delta + alpha*a)\n",
    "        self.delta = np.zeros(self.weights.shape)\n",
    "        \n",
    "\n",
    "def forward_pass(nn, x):\n",
    "    nn[0].top_values = x\n",
    "\n",
    "    for layerNo, layer in enumerate(nn[1:]):\n",
    "        layer.bottom_values = nn[layerNo].top_values\n",
    "        layer.forward_pass()\n",
    "\n",
    "    nn[-1].softmax_normalization()\n",
    "    \n",
    "    return nn[-1].top_values\n",
    "\n",
    "def backward_pass(nn, target):\n",
    "    nn[-1].bottom_error_grad = nn[-1].top_values - target\n",
    "    for layerNo in range(len(nn)-2, -1, -1):\n",
    "        nn[layerNo].top_error_grad = nn[layerNo+1].bottom_error_grad\n",
    "        nn[layerNo].backward_pass()\n",
    "        \n",
    "def forward_backward_pass(nn, x, y):\n",
    "    forward_pass(nn, x)\n",
    "    backward_pass(nn, y)\n",
    "\n",
    "    for layerNo in range(1,len(nn), 2): #only the weight connection layers\n",
    "        nn[layerNo].add_weight_gradient()\n",
    "        \n",
    "def update_weights(nn, eta):\n",
    "\n",
    "    for layer in nn: #only the weight connection layers\n",
    "        layer.update_weights(eta)\n",
    "        \n",
    "def training(nn, tr, steps, eta):\n",
    "    for _ in range(steps):\n",
    "        for x,y in tr:\n",
    "            forward_backward_pass(nn, x, y)\n",
    "            update_weights(nn, eta)\n",
    "            \n"
   ]
  },
  {
   "cell_type": "markdown",
   "metadata": {},
   "source": [
    "We define our neural network like this"
   ]
  },
  {
   "cell_type": "code",
   "execution_count": null,
   "metadata": {
    "collapsed": true
   },
   "outputs": [],
   "source": [
    "nn = []\n",
    "nn.append(NodeLayer(2))     # input nodes\n",
    "nn.append(WeightConnection(2, 5))\n",
    "nn.append(NodeLayer(5))\n",
    "nn.append(WeightConnection(5, 2))\n",
    "nn.append(NodeLayer(2, outputLayer=True))"
   ]
  },
  {
   "cell_type": "markdown",
   "metadata": {},
   "source": [
    "Now, we can load the homework data"
   ]
  },
  {
   "cell_type": "code",
   "execution_count": null,
   "metadata": {
    "collapsed": true
   },
   "outputs": [],
   "source": [
    "all_data = np.loadtxt(\"Assignment1Data.txt\")\n",
    "x = all_data[:,0:2]\n",
    "onehot = np.zeros(x.shape)\n",
    "onehot[np.arange(x.shape[0]), all_data[:,2].astype(np.int)] = 1\n",
    "\n",
    "homework_dataset = zip(x, onehot)"
   ]
  },
  {
   "cell_type": "markdown",
   "metadata": {},
   "source": [
    "And start the training (and a timer to see how long it takes)\n",
    "\n",
    "We go with 100 iterations and a learning rate of 0.01"
   ]
  },
  {
   "cell_type": "code",
   "execution_count": 14,
   "metadata": {},
   "outputs": [
    {
     "name": "stdout",
     "output_type": "stream",
     "text": [
      "training in seconds: 14.801463\n"
     ]
    }
   ],
   "source": [
    "start = time.clock()\n",
    "training(nn, homework_dataset, steps=100, eta=0.01)\n",
    "print('training in seconds: %f' % (time.clock() - start))"
   ]
  },
  {
   "cell_type": "code",
   "execution_count": 15,
   "metadata": {},
   "outputs": [
    {
     "data": {
      "image/png": "[encoded data removed]",
      "text/plain": [
       "<matplotlib.figure.Figure at 0x1122ba1d0>"
      ]
     },
     "metadata": {},
     "output_type": "display_data"
    }
   ],
   "source": [
    "plot_it(dataset=homework_dataset, nn_callback=forward_pass)"
   ]
  }
 ],
 "metadata": {
  "kernelspec": {
   "display_name": "Python 2",
   "language": "python",
   "name": "python2"
  },
  "language_info": {
   "codemirror_mode": {
    "name": "ipython",
    "version": 2
   },
   "file_extension": ".py",
   "mimetype": "text/x-python",
   "name": "python",
   "nbconvert_exporter": "python",
   "pygments_lexer": "ipython2",
   "version": "2.7.14"
  }
 },
 "nbformat": 4,
 "nbformat_minor": 2
}
